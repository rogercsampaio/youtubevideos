{
  "cells": [
    {
      "cell_type": "markdown",
      "source": [
        "![image-alt-text](imagens/logo.png)"
      ],
      "metadata": {
        "nteract": {
          "transient": {
            "deleting": false
          }
        }
      }
    },
    {
      "cell_type": "markdown",
      "source": [
        "<h2> Modelo de Previsão (Classificação de Score) </h2> </br>\n",
        "Objetivo: prever faixa de pontuação de crédito para cada cliente. </br> Referência:\n",
        "https://www.kaggle.com/datasets/parisrohan/credit-score-classification?resource=download&select=train.csv"
      ],
      "metadata": {
        "id": "BHrCocbmrL1x"
      }
    },
    {
      "cell_type": "markdown",
      "source": [
        "**Processo da Ciência de Dados**: </br>\r\n",
        "1 - Entendimento do Negócio. </br>\r\n",
        "2 - Obtenção das Bases de Dados. </br>\r\n",
        "3 - Análise Exploratória de Dados. </br>\r\n",
        "4 - Contrução do Modelo. </br>\r\n",
        "5 - Avaliação do Modelo. </br>"
      ],
      "metadata": {
        "nteract": {
          "transient": {
            "deleting": false
          }
        }
      }
    },
    {
      "cell_type": "markdown",
      "source": [
        "Importação de Pacotes Python"
      ],
      "metadata": {
        "id": "KsqO7zpHqjaU"
      }
    },
    {
      "cell_type": "code",
      "source": [
        "import pandas as pd\n",
        "import matplotlib.pyplot as plt\n",
        "import statistics as st\n",
        "\n",
        "from sklearn.model_selection import train_test_split\n",
        "from sklearn.tree import DecisionTreeClassifier\n",
        "from sklearn.metrics import classification_report"
      ],
      "outputs": [],
      "execution_count": 4,
      "metadata": {
        "id": "4fG9pQpBqobZ",
        "gather": {
          "logged": 1682104508305
        }
      }
    },
    {
      "cell_type": "markdown",
      "source": [
        "Análise Exploratória de Dados (EDA)"
      ],
      "metadata": {
        "id": "43E-KXtcqeSG"
      }
    },
    {
      "cell_type": "code",
      "source": [
        "# Obtendo os dados\n",
        "cli_registros = pd.read_csv(\"bases/train.csv\")"
      ],
      "outputs": [],
      "execution_count": 5,
      "metadata": {
        "id": "IR4l_FZaqhy9",
        "colab": {
          "base_uri": "https://localhost:8080/"
        },
        "outputId": "a0a9125b-ca9a-4c34-a7c9-9d0f0420e670",
        "gather": {
          "logged": 1682104576635
        }
      }
    },
    {
      "cell_type": "code",
      "source": [
        "cli_registros.shape"
      ],
      "outputs": [
        {
          "output_type": "execute_result",
          "execution_count": 6,
          "data": {
            "text/plain": "(100000, 28)"
          },
          "metadata": {}
        }
      ],
      "execution_count": 6,
      "metadata": {
        "colab": {
          "base_uri": "https://localhost:8080/"
        },
        "id": "0hbSRMufqh2M",
        "outputId": "ac0afd91-a794-4b01-9ad8-f6fa50c10c57",
        "gather": {
          "logged": 1682104595624
        }
      }
    },
    {
      "cell_type": "code",
      "source": [
        "cli_registros.columns"
      ],
      "outputs": [
        {
          "output_type": "execute_result",
          "execution_count": 7,
          "data": {
            "text/plain": "Index(['ID', 'Customer_ID', 'Month', 'Name', 'Age', 'SSN', 'Occupation',\n       'Annual_Income', 'Monthly_Inhand_Salary', 'Num_Bank_Accounts',\n       'Num_Credit_Card', 'Interest_Rate', 'Num_of_Loan', 'Type_of_Loan',\n       'Delay_from_due_date', 'Num_of_Delayed_Payment', 'Changed_Credit_Limit',\n       'Num_Credit_Inquiries', 'Credit_Mix', 'Outstanding_Debt',\n       'Credit_Utilization_Ratio', 'Credit_History_Age',\n       'Payment_of_Min_Amount', 'Total_EMI_per_month',\n       'Amount_invested_monthly', 'Payment_Behaviour', 'Monthly_Balance',\n       'Credit_Score'],\n      dtype='object')"
          },
          "metadata": {}
        }
      ],
      "execution_count": 7,
      "metadata": {
        "jupyter": {
          "source_hidden": false,
          "outputs_hidden": false
        },
        "nteract": {
          "transient": {
            "deleting": false
          }
        },
        "gather": {
          "logged": 1682104622552
        }
      }
    },
    {
      "cell_type": "code",
      "source": [
        "cli_registros.head(10)"
      ],
      "outputs": [
        {
          "output_type": "execute_result",
          "execution_count": 8,
          "data": {
            "text/plain": "       ID Customer_ID     Month             Name   Age          SSN  \\\n0  0x1602   CUS_0xd40   January    Aaron Maashoh    23  821-00-0265   \n1  0x1603   CUS_0xd40  February    Aaron Maashoh    23  821-00-0265   \n2  0x1604   CUS_0xd40     March    Aaron Maashoh  -500  821-00-0265   \n3  0x1605   CUS_0xd40     April    Aaron Maashoh    23  821-00-0265   \n4  0x1606   CUS_0xd40       May    Aaron Maashoh    23  821-00-0265   \n5  0x1607   CUS_0xd40      June    Aaron Maashoh    23  821-00-0265   \n6  0x1608   CUS_0xd40      July    Aaron Maashoh    23  821-00-0265   \n7  0x1609   CUS_0xd40    August              NaN    23    #F%$D@*&8   \n8  0x160e  CUS_0x21b1   January  Rick Rothackerj   28_  004-07-5839   \n9  0x160f  CUS_0x21b1  February  Rick Rothackerj    28  004-07-5839   \n\n  Occupation Annual_Income  Monthly_Inhand_Salary  Num_Bank_Accounts  ...  \\\n0  Scientist      19114.12            1824.843333                  3  ...   \n1  Scientist      19114.12                    NaN                  3  ...   \n2  Scientist      19114.12                    NaN                  3  ...   \n3  Scientist      19114.12                    NaN                  3  ...   \n4  Scientist      19114.12            1824.843333                  3  ...   \n5  Scientist      19114.12                    NaN                  3  ...   \n6  Scientist      19114.12            1824.843333                  3  ...   \n7  Scientist      19114.12            1824.843333                  3  ...   \n8    _______      34847.84            3037.986667                  2  ...   \n9    Teacher      34847.84            3037.986667                  2  ...   \n\n   Credit_Mix  Outstanding_Debt Credit_Utilization_Ratio  \\\n0           _            809.98                26.822620   \n1        Good            809.98                31.944960   \n2        Good            809.98                28.609352   \n3        Good            809.98                31.377862   \n4        Good            809.98                24.797347   \n5        Good            809.98                27.262259   \n6        Good            809.98                22.537593   \n7        Good            809.98                23.933795   \n8        Good            605.03                24.464031   \n9        Good            605.03                38.550848   \n\n      Credit_History_Age  Payment_of_Min_Amount Total_EMI_per_month  \\\n0  22 Years and 1 Months                     No           49.574949   \n1                    NaN                     No           49.574949   \n2  22 Years and 3 Months                     No           49.574949   \n3  22 Years and 4 Months                     No           49.574949   \n4  22 Years and 5 Months                     No           49.574949   \n5  22 Years and 6 Months                     No           49.574949   \n6  22 Years and 7 Months                     No           49.574949   \n7                    NaN                     No           49.574949   \n8  26 Years and 7 Months                     No           18.816215   \n9  26 Years and 8 Months                     No           18.816215   \n\n  Amount_invested_monthly                 Payment_Behaviour  \\\n0       80.41529543900253   High_spent_Small_value_payments   \n1      118.28022162236736    Low_spent_Large_value_payments   \n2         81.699521264648   Low_spent_Medium_value_payments   \n3       199.4580743910713    Low_spent_Small_value_payments   \n4      41.420153086217326  High_spent_Medium_value_payments   \n5      62.430172331195294                            !@9#%8   \n6       178.3440674122349    Low_spent_Small_value_payments   \n7      24.785216509052056  High_spent_Medium_value_payments   \n8        104.291825168246    Low_spent_Small_value_payments   \n9       40.39123782853101   High_spent_Large_value_payments   \n\n      Monthly_Balance Credit_Score  \n0  312.49408867943663         Good  \n1  284.62916249607184         Good  \n2   331.2098628537912         Good  \n3  223.45130972736786         Good  \n4  341.48923103222177         Good  \n5   340.4792117872438         Good  \n6   244.5653167062043         Good  \n7  358.12416760938714     Standard  \n8  470.69062692529184     Standard  \n9   484.5912142650067         Good  \n\n[10 rows x 28 columns]",
            "text/html": "<div>\n<style scoped>\n    .dataframe tbody tr th:only-of-type {\n        vertical-align: middle;\n    }\n\n    .dataframe tbody tr th {\n        vertical-align: top;\n    }\n\n    .dataframe thead th {\n        text-align: right;\n    }\n</style>\n<table border=\"1\" class=\"dataframe\">\n  <thead>\n    <tr style=\"text-align: right;\">\n      <th></th>\n      <th>ID</th>\n      <th>Customer_ID</th>\n      <th>Month</th>\n      <th>Name</th>\n      <th>Age</th>\n      <th>SSN</th>\n      <th>Occupation</th>\n      <th>Annual_Income</th>\n      <th>Monthly_Inhand_Salary</th>\n      <th>Num_Bank_Accounts</th>\n      <th>...</th>\n      <th>Credit_Mix</th>\n      <th>Outstanding_Debt</th>\n      <th>Credit_Utilization_Ratio</th>\n      <th>Credit_History_Age</th>\n      <th>Payment_of_Min_Amount</th>\n      <th>Total_EMI_per_month</th>\n      <th>Amount_invested_monthly</th>\n      <th>Payment_Behaviour</th>\n      <th>Monthly_Balance</th>\n      <th>Credit_Score</th>\n    </tr>\n  </thead>\n  <tbody>\n    <tr>\n      <th>0</th>\n      <td>0x1602</td>\n      <td>CUS_0xd40</td>\n      <td>January</td>\n      <td>Aaron Maashoh</td>\n      <td>23</td>\n      <td>821-00-0265</td>\n      <td>Scientist</td>\n      <td>19114.12</td>\n      <td>1824.843333</td>\n      <td>3</td>\n      <td>...</td>\n      <td>_</td>\n      <td>809.98</td>\n      <td>26.822620</td>\n      <td>22 Years and 1 Months</td>\n      <td>No</td>\n      <td>49.574949</td>\n      <td>80.41529543900253</td>\n      <td>High_spent_Small_value_payments</td>\n      <td>312.49408867943663</td>\n      <td>Good</td>\n    </tr>\n    <tr>\n      <th>1</th>\n      <td>0x1603</td>\n      <td>CUS_0xd40</td>\n      <td>February</td>\n      <td>Aaron Maashoh</td>\n      <td>23</td>\n      <td>821-00-0265</td>\n      <td>Scientist</td>\n      <td>19114.12</td>\n      <td>NaN</td>\n      <td>3</td>\n      <td>...</td>\n      <td>Good</td>\n      <td>809.98</td>\n      <td>31.944960</td>\n      <td>NaN</td>\n      <td>No</td>\n      <td>49.574949</td>\n      <td>118.28022162236736</td>\n      <td>Low_spent_Large_value_payments</td>\n      <td>284.62916249607184</td>\n      <td>Good</td>\n    </tr>\n    <tr>\n      <th>2</th>\n      <td>0x1604</td>\n      <td>CUS_0xd40</td>\n      <td>March</td>\n      <td>Aaron Maashoh</td>\n      <td>-500</td>\n      <td>821-00-0265</td>\n      <td>Scientist</td>\n      <td>19114.12</td>\n      <td>NaN</td>\n      <td>3</td>\n      <td>...</td>\n      <td>Good</td>\n      <td>809.98</td>\n      <td>28.609352</td>\n      <td>22 Years and 3 Months</td>\n      <td>No</td>\n      <td>49.574949</td>\n      <td>81.699521264648</td>\n      <td>Low_spent_Medium_value_payments</td>\n      <td>331.2098628537912</td>\n      <td>Good</td>\n    </tr>\n    <tr>\n      <th>3</th>\n      <td>0x1605</td>\n      <td>CUS_0xd40</td>\n      <td>April</td>\n      <td>Aaron Maashoh</td>\n      <td>23</td>\n      <td>821-00-0265</td>\n      <td>Scientist</td>\n      <td>19114.12</td>\n      <td>NaN</td>\n      <td>3</td>\n      <td>...</td>\n      <td>Good</td>\n      <td>809.98</td>\n      <td>31.377862</td>\n      <td>22 Years and 4 Months</td>\n      <td>No</td>\n      <td>49.574949</td>\n      <td>199.4580743910713</td>\n      <td>Low_spent_Small_value_payments</td>\n      <td>223.45130972736786</td>\n      <td>Good</td>\n    </tr>\n    <tr>\n      <th>4</th>\n      <td>0x1606</td>\n      <td>CUS_0xd40</td>\n      <td>May</td>\n      <td>Aaron Maashoh</td>\n      <td>23</td>\n      <td>821-00-0265</td>\n      <td>Scientist</td>\n      <td>19114.12</td>\n      <td>1824.843333</td>\n      <td>3</td>\n      <td>...</td>\n      <td>Good</td>\n      <td>809.98</td>\n      <td>24.797347</td>\n      <td>22 Years and 5 Months</td>\n      <td>No</td>\n      <td>49.574949</td>\n      <td>41.420153086217326</td>\n      <td>High_spent_Medium_value_payments</td>\n      <td>341.48923103222177</td>\n      <td>Good</td>\n    </tr>\n    <tr>\n      <th>5</th>\n      <td>0x1607</td>\n      <td>CUS_0xd40</td>\n      <td>June</td>\n      <td>Aaron Maashoh</td>\n      <td>23</td>\n      <td>821-00-0265</td>\n      <td>Scientist</td>\n      <td>19114.12</td>\n      <td>NaN</td>\n      <td>3</td>\n      <td>...</td>\n      <td>Good</td>\n      <td>809.98</td>\n      <td>27.262259</td>\n      <td>22 Years and 6 Months</td>\n      <td>No</td>\n      <td>49.574949</td>\n      <td>62.430172331195294</td>\n      <td>!@9#%8</td>\n      <td>340.4792117872438</td>\n      <td>Good</td>\n    </tr>\n    <tr>\n      <th>6</th>\n      <td>0x1608</td>\n      <td>CUS_0xd40</td>\n      <td>July</td>\n      <td>Aaron Maashoh</td>\n      <td>23</td>\n      <td>821-00-0265</td>\n      <td>Scientist</td>\n      <td>19114.12</td>\n      <td>1824.843333</td>\n      <td>3</td>\n      <td>...</td>\n      <td>Good</td>\n      <td>809.98</td>\n      <td>22.537593</td>\n      <td>22 Years and 7 Months</td>\n      <td>No</td>\n      <td>49.574949</td>\n      <td>178.3440674122349</td>\n      <td>Low_spent_Small_value_payments</td>\n      <td>244.5653167062043</td>\n      <td>Good</td>\n    </tr>\n    <tr>\n      <th>7</th>\n      <td>0x1609</td>\n      <td>CUS_0xd40</td>\n      <td>August</td>\n      <td>NaN</td>\n      <td>23</td>\n      <td>#F%$D@*&amp;8</td>\n      <td>Scientist</td>\n      <td>19114.12</td>\n      <td>1824.843333</td>\n      <td>3</td>\n      <td>...</td>\n      <td>Good</td>\n      <td>809.98</td>\n      <td>23.933795</td>\n      <td>NaN</td>\n      <td>No</td>\n      <td>49.574949</td>\n      <td>24.785216509052056</td>\n      <td>High_spent_Medium_value_payments</td>\n      <td>358.12416760938714</td>\n      <td>Standard</td>\n    </tr>\n    <tr>\n      <th>8</th>\n      <td>0x160e</td>\n      <td>CUS_0x21b1</td>\n      <td>January</td>\n      <td>Rick Rothackerj</td>\n      <td>28_</td>\n      <td>004-07-5839</td>\n      <td>_______</td>\n      <td>34847.84</td>\n      <td>3037.986667</td>\n      <td>2</td>\n      <td>...</td>\n      <td>Good</td>\n      <td>605.03</td>\n      <td>24.464031</td>\n      <td>26 Years and 7 Months</td>\n      <td>No</td>\n      <td>18.816215</td>\n      <td>104.291825168246</td>\n      <td>Low_spent_Small_value_payments</td>\n      <td>470.69062692529184</td>\n      <td>Standard</td>\n    </tr>\n    <tr>\n      <th>9</th>\n      <td>0x160f</td>\n      <td>CUS_0x21b1</td>\n      <td>February</td>\n      <td>Rick Rothackerj</td>\n      <td>28</td>\n      <td>004-07-5839</td>\n      <td>Teacher</td>\n      <td>34847.84</td>\n      <td>3037.986667</td>\n      <td>2</td>\n      <td>...</td>\n      <td>Good</td>\n      <td>605.03</td>\n      <td>38.550848</td>\n      <td>26 Years and 8 Months</td>\n      <td>No</td>\n      <td>18.816215</td>\n      <td>40.39123782853101</td>\n      <td>High_spent_Large_value_payments</td>\n      <td>484.5912142650067</td>\n      <td>Good</td>\n    </tr>\n  </tbody>\n</table>\n<p>10 rows × 28 columns</p>\n</div>"
          },
          "metadata": {}
        }
      ],
      "execution_count": 8,
      "metadata": {
        "colab": {
          "base_uri": "https://localhost:8080/",
          "height": 613
        },
        "id": "pfV5XxYj8AhJ",
        "outputId": "24ae452f-9184-4713-e5c1-cd6c4f9d399d",
        "gather": {
          "logged": 1682104640579
        }
      }
    },
    {
      "cell_type": "code",
      "source": [
        "# Tipos de dados\n",
        "cli_registros.dtypes"
      ],
      "outputs": [
        {
          "output_type": "execute_result",
          "execution_count": 9,
          "data": {
            "text/plain": "ID                           object\nCustomer_ID                  object\nMonth                        object\nName                         object\nAge                          object\nSSN                          object\nOccupation                   object\nAnnual_Income                object\nMonthly_Inhand_Salary       float64\nNum_Bank_Accounts             int64\nNum_Credit_Card               int64\nInterest_Rate                 int64\nNum_of_Loan                  object\nType_of_Loan                 object\nDelay_from_due_date           int64\nNum_of_Delayed_Payment       object\nChanged_Credit_Limit         object\nNum_Credit_Inquiries        float64\nCredit_Mix                   object\nOutstanding_Debt             object\nCredit_Utilization_Ratio    float64\nCredit_History_Age           object\nPayment_of_Min_Amount        object\nTotal_EMI_per_month         float64\nAmount_invested_monthly      object\nPayment_Behaviour            object\nMonthly_Balance              object\nCredit_Score                 object\ndtype: object"
          },
          "metadata": {}
        }
      ],
      "execution_count": 9,
      "metadata": {
        "colab": {
          "base_uri": "https://localhost:8080/"
        },
        "id": "nDaQEk78rGZM",
        "outputId": "828847ae-9850-4276-83f0-114ba23e93ee",
        "gather": {
          "logged": 1682104744398
        }
      }
    },
    {
      "cell_type": "code",
      "source": [
        "cli_registros.head(5)"
      ],
      "outputs": [],
      "execution_count": null,
      "metadata": {
        "colab": {
          "base_uri": "https://localhost:8080/",
          "height": 473
        },
        "id": "jZj0QN_Ir2yx",
        "outputId": "25f9cc75-2fae-4f0e-c173-289be8a44fa4"
      }
    },
    {
      "cell_type": "code",
      "source": [
        "# Qtde de clientes distintos\n",
        "len(cli_registros['Customer_ID'].unique())"
      ],
      "outputs": [
        {
          "output_type": "execute_result",
          "execution_count": 10,
          "data": {
            "text/plain": "12500"
          },
          "metadata": {}
        }
      ],
      "execution_count": 10,
      "metadata": {
        "colab": {
          "base_uri": "https://localhost:8080/"
        },
        "id": "7uBuuoyWDT-W",
        "outputId": "b1beb211-7be9-4bb8-b1c6-216e77b9d60a",
        "gather": {
          "logged": 1682104798246
        }
      }
    },
    {
      "cell_type": "code",
      "source": [
        "# Contabilizando valores nulos\n",
        "cli_registros.isnull().sum()"
      ],
      "outputs": [
        {
          "output_type": "execute_result",
          "execution_count": 11,
          "data": {
            "text/plain": "ID                              0\nCustomer_ID                     0\nMonth                           0\nName                         9985\nAge                             0\nSSN                             0\nOccupation                      0\nAnnual_Income                   0\nMonthly_Inhand_Salary       15002\nNum_Bank_Accounts               0\nNum_Credit_Card                 0\nInterest_Rate                   0\nNum_of_Loan                     0\nType_of_Loan                11408\nDelay_from_due_date             0\nNum_of_Delayed_Payment       7002\nChanged_Credit_Limit            0\nNum_Credit_Inquiries         1965\nCredit_Mix                      0\nOutstanding_Debt                0\nCredit_Utilization_Ratio        0\nCredit_History_Age           9030\nPayment_of_Min_Amount           0\nTotal_EMI_per_month             0\nAmount_invested_monthly      4479\nPayment_Behaviour               0\nMonthly_Balance              1200\nCredit_Score                    0\ndtype: int64"
          },
          "metadata": {}
        }
      ],
      "execution_count": 11,
      "metadata": {
        "colab": {
          "base_uri": "https://localhost:8080/"
        },
        "id": "FQNhpz_MxZBK",
        "outputId": "edd1f033-e1a2-484a-fda4-336576e1d352",
        "gather": {
          "logged": 1682104822627
        }
      }
    },
    {
      "cell_type": "code",
      "source": [
        "# Removendo valores nulos\n",
        "cli_registros = cli_registros.dropna()\n",
        "cli_registros.isnull().sum()"
      ],
      "outputs": [
        {
          "output_type": "execute_result",
          "execution_count": 12,
          "data": {
            "text/plain": "ID                          0\nCustomer_ID                 0\nMonth                       0\nName                        0\nAge                         0\nSSN                         0\nOccupation                  0\nAnnual_Income               0\nMonthly_Inhand_Salary       0\nNum_Bank_Accounts           0\nNum_Credit_Card             0\nInterest_Rate               0\nNum_of_Loan                 0\nType_of_Loan                0\nDelay_from_due_date         0\nNum_of_Delayed_Payment      0\nChanged_Credit_Limit        0\nNum_Credit_Inquiries        0\nCredit_Mix                  0\nOutstanding_Debt            0\nCredit_Utilization_Ratio    0\nCredit_History_Age          0\nPayment_of_Min_Amount       0\nTotal_EMI_per_month         0\nAmount_invested_monthly     0\nPayment_Behaviour           0\nMonthly_Balance             0\nCredit_Score                0\ndtype: int64"
          },
          "metadata": {}
        }
      ],
      "execution_count": 12,
      "metadata": {
        "colab": {
          "base_uri": "https://localhost:8080/"
        },
        "id": "7EoQQ8Xnxgo0",
        "outputId": "41a5e55b-aa76-4642-8d4b-94e77e3b7b10",
        "gather": {
          "logged": 1682104891415
        }
      }
    },
    {
      "cell_type": "code",
      "source": [
        "print(f\"Contagem de amostras após remoção de valores nulos: {len(cli_registros)}\")"
      ],
      "outputs": [
        {
          "output_type": "stream",
          "name": "stdout",
          "text": "Contagem de amostras após remoção de valores nulos: 53049\n"
        }
      ],
      "execution_count": 13,
      "metadata": {
        "colab": {
          "base_uri": "https://localhost:8080/"
        },
        "id": "OgPgenKQxo-Q",
        "outputId": "6af1af8b-622d-4333-d9af-c1603ff0b56d",
        "gather": {
          "logged": 1682104908579
        }
      }
    },
    {
      "cell_type": "markdown",
      "source": [
        "1. Variável MONTh"
      ],
      "metadata": {
        "id": "_Wkvv4oGtMZN"
      }
    },
    {
      "cell_type": "code",
      "source": [
        "cli_registros['Month'].head(5)"
      ],
      "outputs": [
        {
          "output_type": "execute_result",
          "execution_count": 15,
          "data": {
            "text/plain": "0      January\n6         July\n8      January\n9     February\n10       March\nName: Month, dtype: object"
          },
          "metadata": {}
        }
      ],
      "execution_count": 15,
      "metadata": {
        "jupyter": {
          "source_hidden": false,
          "outputs_hidden": false
        },
        "nteract": {
          "transient": {
            "deleting": false
          }
        },
        "gather": {
          "logged": 1682105300038
        }
      }
    },
    {
      "cell_type": "code",
      "source": [
        "type(cli_registros['Month'])"
      ],
      "outputs": [
        {
          "output_type": "execute_result",
          "execution_count": 14,
          "data": {
            "text/plain": "pandas.core.series.Series"
          },
          "metadata": {}
        }
      ],
      "execution_count": 14,
      "metadata": {
        "colab": {
          "base_uri": "https://localhost:8080/"
        },
        "id": "J9Jns35dtO_w",
        "outputId": "41e2c13d-feb9-4617-e187-52cb5fa543dc",
        "gather": {
          "logged": 1682105267654
        }
      }
    },
    {
      "cell_type": "code",
      "source": [
        "print('Qtde de MESES únicos ',len(cli_registros['Month'].unique()))"
      ],
      "outputs": [
        {
          "output_type": "stream",
          "name": "stdout",
          "text": "Qtde de MESES únicos  8\n"
        }
      ],
      "execution_count": 16,
      "metadata": {
        "colab": {
          "base_uri": "https://localhost:8080/"
        },
        "id": "PnyYBa9otPCB",
        "outputId": "27787857-bd42-4730-9ff9-2887aa93e4d6",
        "gather": {
          "logged": 1682105323356
        }
      }
    },
    {
      "cell_type": "code",
      "source": [
        "cli_registros['Month'].unique()"
      ],
      "outputs": [
        {
          "output_type": "execute_result",
          "execution_count": 17,
          "data": {
            "text/plain": "array(['January', 'July', 'February', 'March', 'May', 'June', 'August',\n       'April'], dtype=object)"
          },
          "metadata": {}
        }
      ],
      "execution_count": 17,
      "metadata": {
        "colab": {
          "base_uri": "https://localhost:8080/"
        },
        "id": "S3ZhbpcR-Z6_",
        "outputId": "8489e0ee-8cf5-4965-8a7b-4b6dbf0e4ab7",
        "gather": {
          "logged": 1682105349236
        }
      }
    },
    {
      "cell_type": "code",
      "source": [
        "meses_agrupados = cli_registros.groupby('Month').count().loc[:,'ID']\n",
        "meses_agrupados"
      ],
      "outputs": [
        {
          "output_type": "execute_result",
          "execution_count": 18,
          "data": {
            "text/plain": "Month\nApril       6609\nAugust      6624\nFebruary    6589\nJanuary     6744\nJuly        6637\nJune        6629\nMarch       6568\nMay         6649\nName: ID, dtype: int64"
          },
          "metadata": {}
        }
      ],
      "execution_count": 18,
      "metadata": {
        "colab": {
          "base_uri": "https://localhost:8080/"
        },
        "id": "HPGmrQeYtXO8",
        "outputId": "b3cc92a8-fd6f-4d79-afd3-0bdd19f80676",
        "gather": {
          "logged": 1682105389108
        }
      }
    },
    {
      "cell_type": "code",
      "source": [
        "def pesquisar_elemento(item):\n",
        "  dic_meses = {'January':1,'February':2,'March':3,'April':4,'May':5,'June':6,'July':7,'August':8}\n",
        "  for mes, numero in dic_meses.items():\n",
        "    if numero == item:\n",
        "        return mes"
      ],
      "outputs": [],
      "execution_count": 21,
      "metadata": {
        "id": "O4Z7ZLoj0HHo",
        "gather": {
          "logged": 1682105717779
        }
      }
    },
    {
      "cell_type": "code",
      "source": [
        "# Ordenando o ano\n",
        "dic_meses = {'January':1,'February':2,'March':3,'April':4,'May':5,'June':6,'July':7,'August':8}\n",
        "meses_agrupados.index = [dic_meses.get(item) for item in meses_agrupados.index]\n",
        "meses_agrupados = meses_agrupados.sort_index()\n",
        "meses_agrupados\n",
        "\n",
        "# obtendo o nome do mês novamente\n",
        "meses_agrupados.index = [pesquisar_elemento(item) for item in meses_agrupados.index]\n",
        "meses_agrupados.index"
      ],
      "outputs": [
        {
          "output_type": "execute_result",
          "execution_count": 22,
          "data": {
            "text/plain": "Index(['January', 'February', 'March', 'April', 'May', 'June', 'July',\n       'August'],\n      dtype='object')"
          },
          "metadata": {}
        }
      ],
      "execution_count": 22,
      "metadata": {
        "colab": {
          "base_uri": "https://localhost:8080/"
        },
        "id": "dlGhpXJQwem_",
        "outputId": "11469f5a-ac7c-457f-d45a-49f1bed8d67f",
        "gather": {
          "logged": 1682105728037
        }
      }
    },
    {
      "cell_type": "code",
      "source": [
        "plt.figure(figsize = (10,8))\n",
        "x = meses_agrupados.index\n",
        "height = meses_agrupados.values\n",
        "plt.bar(x, height)\n",
        "plt.title('Contagem de registros históricos por mês')\n",
        "plt.xticks(rotation = 90)\n",
        "plt.show()"
      ],
      "outputs": [
        {
          "output_type": "display_data",
          "data": {
            "text/plain": "<Figure size 1000x800 with 1 Axes>",
            "image/png": "[encoded data removed]"
          },
          "metadata": {}
        }
      ],
      "execution_count": 23,
      "metadata": {
        "colab": {
          "base_uri": "https://localhost:8080/",
          "height": 533
        },
        "id": "dxIboknxu2y7",
        "outputId": "61edb777-e53a-47d7-ecac-929a715cc5fd",
        "gather": {
          "logged": 1682105779346
        }
      }
    },
    {
      "cell_type": "markdown",
      "source": [
        "2. Variável Occupation"
      ],
      "metadata": {
        "id": "zhwQ9Vnir1On"
      }
    },
    {
      "cell_type": "code",
      "source": [
        "type(cli_registros['Occupation'])"
      ],
      "outputs": [
        {
          "output_type": "execute_result",
          "execution_count": 25,
          "data": {
            "text/plain": "pandas.core.series.Series"
          },
          "metadata": {}
        }
      ],
      "execution_count": 25,
      "metadata": {
        "colab": {
          "base_uri": "https://localhost:8080/"
        },
        "id": "psKjENjZr0tW",
        "outputId": "ea759575-dd87-4269-8611-5c831870c74a",
        "gather": {
          "logged": 1682105872198
        }
      }
    },
    {
      "cell_type": "code",
      "source": [
        "cli_registros['Occupation'][0:10]"
      ],
      "outputs": [
        {
          "output_type": "execute_result",
          "execution_count": 24,
          "data": {
            "text/plain": "0     Scientist\n6     Scientist\n8       _______\n9       Teacher\n10      Teacher\n12      Teacher\n13      Teacher\n15      Teacher\n16      _______\n20      _______\nName: Occupation, dtype: object"
          },
          "metadata": {}
        }
      ],
      "execution_count": 24,
      "metadata": {
        "colab": {
          "base_uri": "https://localhost:8080/"
        },
        "id": "g55XlZ__rGoR",
        "outputId": "09c809b2-2ee9-4bac-b4b1-99f1b57e2cd2",
        "gather": {
          "logged": 1682105855770
        }
      }
    },
    {
      "cell_type": "code",
      "source": [
        "# Encontrando os valores únicos.\n",
        "print('Qtde de ocupações únicas únicas ',len(cli_registros['Occupation'].unique()))"
      ],
      "outputs": [
        {
          "output_type": "stream",
          "name": "stdout",
          "text": "Qtde de ocupações únicas únicas  16\n"
        }
      ],
      "execution_count": 26,
      "metadata": {
        "colab": {
          "base_uri": "https://localhost:8080/"
        },
        "id": "99rR-QLSshRH",
        "outputId": "82618919-d19d-4967-d128-237530117ee0",
        "gather": {
          "logged": 1682105890904
        }
      }
    },
    {
      "cell_type": "code",
      "source": [
        "cli_registros['Occupation'].unique()"
      ],
      "outputs": [
        {
          "output_type": "execute_result",
          "execution_count": 27,
          "data": {
            "text/plain": "array(['Scientist', '_______', 'Teacher', 'Engineer', 'Entrepreneur',\n       'Lawyer', 'Media_Manager', 'Doctor', 'Journalist', 'Manager',\n       'Mechanic', 'Writer', 'Accountant', 'Architect', 'Musician',\n       'Developer'], dtype=object)"
          },
          "metadata": {}
        }
      ],
      "execution_count": 27,
      "metadata": {
        "jupyter": {
          "source_hidden": false,
          "outputs_hidden": false
        },
        "nteract": {
          "transient": {
            "deleting": false
          }
        },
        "gather": {
          "logged": 1682105912019
        }
      }
    },
    {
      "cell_type": "code",
      "source": [
        "cli_registros_agrupados = cli_registros.groupby('Occupation').count().loc[:,'ID'].rename(\"Qtde de amostras\")\n",
        "cli_registros_agrupados"
      ],
      "outputs": [
        {
          "output_type": "execute_result",
          "execution_count": 28,
          "data": {
            "text/plain": "Occupation\nAccountant       3305\nArchitect        3325\nDeveloper        3279\nDoctor           3344\nEngineer         3321\nEntrepreneur     3326\nJournalist       3124\nLawyer           3558\nManager          3107\nMechanic         3419\nMedia_Manager    3306\nMusician         3136\nScientist        3281\nTeacher          3341\nWriter           3150\n_______          3727\nName: Qtde de amostras, dtype: int64"
          },
          "metadata": {}
        }
      ],
      "execution_count": 28,
      "metadata": {
        "id": "s3lc6AZA5hzX",
        "colab": {
          "base_uri": "https://localhost:8080/"
        },
        "outputId": "fada3efb-027b-440b-d174-cdcb6864eb1e",
        "gather": {
          "logged": 1682105947457
        }
      }
    },
    {
      "cell_type": "code",
      "source": [
        "cli_registros['Occupation'] = cli_registros['Occupation'].replace(['_______'], 'Desconhecido')"
      ],
      "outputs": [],
      "execution_count": 29,
      "metadata": {
        "id": "-q4ftCrv9K1-",
        "gather": {
          "logged": 1682105979583
        }
      }
    },
    {
      "cell_type": "code",
      "source": [
        "cli_registros_agrupados = cli_registros.groupby('Occupation').count().loc[:,'ID'].rename(\"Qtde de amostras\")\r\n",
        "cli_registros_agrupados = cli_registros_agrupados.sort_values(ascending=False)\r\n",
        "cli_registros_agrupados"
      ],
      "outputs": [
        {
          "output_type": "execute_result",
          "execution_count": 34,
          "data": {
            "text/plain": "Occupation\nDesconhecido     3727\nLawyer           3558\nMechanic         3419\nDoctor           3344\nTeacher          3341\nEntrepreneur     3326\nArchitect        3325\nEngineer         3321\nMedia_Manager    3306\nAccountant       3305\nScientist        3281\nDeveloper        3279\nWriter           3150\nMusician         3136\nJournalist       3124\nManager          3107\nName: Qtde de amostras, dtype: int64"
          },
          "metadata": {}
        }
      ],
      "execution_count": 34,
      "metadata": {
        "jupyter": {
          "source_hidden": false,
          "outputs_hidden": false
        },
        "nteract": {
          "transient": {
            "deleting": false
          }
        },
        "gather": {
          "logged": 1682106150519
        }
      }
    },
    {
      "cell_type": "code",
      "source": [
        "plt.figure(figsize = (10,8))\n",
        "x = cli_registros_agrupados.index\n",
        "height = cli_registros_agrupados.values\n",
        "plt.bar(x, height)\n",
        "plt.title('Contagem de registros por ocupação')\n",
        "plt.xticks(rotation = 90)\n",
        "plt.show()"
      ],
      "outputs": [
        {
          "output_type": "display_data",
          "data": {
            "text/plain": "<Figure size 1000x800 with 1 Axes>",
            "image/png": "[encoded data removed]"
          },
          "metadata": {}
        }
      ],
      "execution_count": 31,
      "metadata": {
        "colab": {
          "base_uri": "https://localhost:8080/",
          "height": 568
        },
        "id": "vRYrJf_z8uPg",
        "outputId": "4e3fbabe-7a71-4b4c-c7cd-1432b26e55f5",
        "gather": {
          "logged": 1682106018032
        }
      }
    },
    {
      "cell_type": "markdown",
      "source": [
        "3. Variável Monthly_Inhand_Salary (Salário Médio Mensal)"
      ],
      "metadata": {
        "id": "kPD0JeRk9pgq"
      }
    },
    {
      "cell_type": "code",
      "source": [
        "type(cli_registros['Monthly_Inhand_Salary'])"
      ],
      "outputs": [
        {
          "output_type": "execute_result",
          "execution_count": 36,
          "data": {
            "text/plain": "pandas.core.series.Series"
          },
          "metadata": {}
        }
      ],
      "execution_count": 36,
      "metadata": {
        "colab": {
          "base_uri": "https://localhost:8080/"
        },
        "id": "_jGSVEeo9z2i",
        "outputId": "14f86036-cd10-4c03-f9ee-d5d56ed6debe",
        "gather": {
          "logged": 1682106202655
        }
      }
    },
    {
      "cell_type": "code",
      "source": [
        "cli_registros['Monthly_Inhand_Salary'][40:50]"
      ],
      "outputs": [
        {
          "output_type": "execute_result",
          "execution_count": 35,
          "data": {
            "text/plain": "85    2948.605833\n86    2948.605833\n88    7266.686667\n89    7266.686667\n90    7266.686667\n92    7266.686667\n93    7266.686667\n96    4766.680000\n97    4766.680000\n99    4766.680000\nName: Monthly_Inhand_Salary, dtype: float64"
          },
          "metadata": {}
        }
      ],
      "execution_count": 35,
      "metadata": {
        "colab": {
          "base_uri": "https://localhost:8080/"
        },
        "id": "ZA5eGmzW9z6u",
        "outputId": "05ed220b-5156-4213-8f9f-680ef6113ad7",
        "gather": {
          "logged": 1682106184593
        }
      }
    },
    {
      "cell_type": "code",
      "source": [
        "cli_registros['Monthly_Inhand_Salary'].describe()"
      ],
      "outputs": [
        {
          "output_type": "execute_result",
          "execution_count": 37,
          "data": {
            "text/plain": "count    53049.000000\nmean      4024.502617\nstd       3094.967739\nmin        303.645417\n25%       1575.345833\n50%       2991.016667\n75%       5712.553333\nmax      15204.633333\nName: Monthly_Inhand_Salary, dtype: float64"
          },
          "metadata": {}
        }
      ],
      "execution_count": 37,
      "metadata": {
        "colab": {
          "base_uri": "https://localhost:8080/"
        },
        "id": "9lZ8WnzI9z9q",
        "outputId": "2cc35b42-b810-4ffd-a153-4eb43bbfaff3",
        "gather": {
          "logged": 1682106220977
        }
      }
    },
    {
      "cell_type": "code",
      "source": [
        "print('Desvio Padrão ',st.stdev(cli_registros['Monthly_Inhand_Salary']))\n",
        "print('Média ',st.mean(cli_registros['Monthly_Inhand_Salary']))"
      ],
      "outputs": [
        {
          "output_type": "stream",
          "name": "stdout",
          "text": "Desvio Padrão  3094.9677388924133\nMédia  4024.502617003084\n"
        }
      ],
      "execution_count": 38,
      "metadata": {
        "colab": {
          "base_uri": "https://localhost:8080/"
        },
        "id": "8aTgYB8bwunH",
        "outputId": "95fc1858-4c3a-4053-b2e4-7f2bdae5ae42",
        "gather": {
          "logged": 1682106312399
        }
      }
    },
    {
      "cell_type": "code",
      "source": [
        "plt.figure(figsize = (10,8))\n",
        "plt.hist(x = cli_registros['Monthly_Inhand_Salary'],bins = 20, histtype ='bar')\n",
        "plt.title('Distribuição do Salário Médio Mensal')\n",
        "plt.ylabel('Contagem de elementos')\n",
        "plt.xlabel('Salários')\n",
        "plt.show()"
      ],
      "outputs": [
        {
          "output_type": "display_data",
          "data": {
            "text/plain": "<Figure size 1000x800 with 1 Axes>",
            "image/png": "[encoded data removed]"
          },
          "metadata": {}
        }
      ],
      "execution_count": 39,
      "metadata": {
        "colab": {
          "base_uri": "https://localhost:8080/",
          "height": 513
        },
        "id": "t6SEU7s_BMNM",
        "outputId": "f9d60b5d-78df-4d23-b397-e64b35a4ca1f",
        "gather": {
          "logged": 1682106353845
        }
      }
    },
    {
      "cell_type": "markdown",
      "source": [
        "4. Variável Num_Bank_Accounts"
      ],
      "metadata": {
        "id": "p6Ez-hO2CTZI"
      }
    },
    {
      "cell_type": "code",
      "source": [
        "type(cli_registros['Num_Bank_Accounts'])"
      ],
      "outputs": [
        {
          "output_type": "execute_result",
          "execution_count": 40,
          "data": {
            "text/plain": "pandas.core.series.Series"
          },
          "metadata": {}
        }
      ],
      "execution_count": 40,
      "metadata": {
        "colab": {
          "base_uri": "https://localhost:8080/"
        },
        "id": "NqW1x6SjCS6e",
        "outputId": "39c5f3e6-e9cb-4ce7-ca88-d2f4682ad84f",
        "gather": {
          "logged": 1682106393666
        }
      }
    },
    {
      "cell_type": "code",
      "source": [
        "cli_registros[['Customer_ID','Name','Num_Bank_Accounts']].head(15)"
      ],
      "outputs": [
        {
          "output_type": "execute_result",
          "execution_count": 41,
          "data": {
            "text/plain": "   Customer_ID             Name  Num_Bank_Accounts\n0    CUS_0xd40    Aaron Maashoh                  3\n6    CUS_0xd40    Aaron Maashoh                  3\n8   CUS_0x21b1  Rick Rothackerj                  2\n9   CUS_0x21b1  Rick Rothackerj                  2\n10  CUS_0x21b1  Rick Rothackerj                  2\n12  CUS_0x21b1  Rick Rothackerj                  2\n13  CUS_0x21b1  Rick Rothackerj                  2\n15  CUS_0x21b1  Rick Rothackerj                  2\n16  CUS_0x2dbc           Langep                  1\n20  CUS_0x2dbc           Langep                  1\n21  CUS_0x2dbc           Langep                  1\n23  CUS_0x2dbc           Langep                  1\n24  CUS_0xb891           Jasond                  2\n25  CUS_0xb891           Jasond                  2\n26  CUS_0xb891           Jasond                  2",
            "text/html": "<div>\n<style scoped>\n    .dataframe tbody tr th:only-of-type {\n        vertical-align: middle;\n    }\n\n    .dataframe tbody tr th {\n        vertical-align: top;\n    }\n\n    .dataframe thead th {\n        text-align: right;\n    }\n</style>\n<table border=\"1\" class=\"dataframe\">\n  <thead>\n    <tr style=\"text-align: right;\">\n      <th></th>\n      <th>Customer_ID</th>\n      <th>Name</th>\n      <th>Num_Bank_Accounts</th>\n    </tr>\n  </thead>\n  <tbody>\n    <tr>\n      <th>0</th>\n      <td>CUS_0xd40</td>\n      <td>Aaron Maashoh</td>\n      <td>3</td>\n    </tr>\n    <tr>\n      <th>6</th>\n      <td>CUS_0xd40</td>\n      <td>Aaron Maashoh</td>\n      <td>3</td>\n    </tr>\n    <tr>\n      <th>8</th>\n      <td>CUS_0x21b1</td>\n      <td>Rick Rothackerj</td>\n      <td>2</td>\n    </tr>\n    <tr>\n      <th>9</th>\n      <td>CUS_0x21b1</td>\n      <td>Rick Rothackerj</td>\n      <td>2</td>\n    </tr>\n    <tr>\n      <th>10</th>\n      <td>CUS_0x21b1</td>\n      <td>Rick Rothackerj</td>\n      <td>2</td>\n    </tr>\n    <tr>\n      <th>12</th>\n      <td>CUS_0x21b1</td>\n      <td>Rick Rothackerj</td>\n      <td>2</td>\n    </tr>\n    <tr>\n      <th>13</th>\n      <td>CUS_0x21b1</td>\n      <td>Rick Rothackerj</td>\n      <td>2</td>\n    </tr>\n    <tr>\n      <th>15</th>\n      <td>CUS_0x21b1</td>\n      <td>Rick Rothackerj</td>\n      <td>2</td>\n    </tr>\n    <tr>\n      <th>16</th>\n      <td>CUS_0x2dbc</td>\n      <td>Langep</td>\n      <td>1</td>\n    </tr>\n    <tr>\n      <th>20</th>\n      <td>CUS_0x2dbc</td>\n      <td>Langep</td>\n      <td>1</td>\n    </tr>\n    <tr>\n      <th>21</th>\n      <td>CUS_0x2dbc</td>\n      <td>Langep</td>\n      <td>1</td>\n    </tr>\n    <tr>\n      <th>23</th>\n      <td>CUS_0x2dbc</td>\n      <td>Langep</td>\n      <td>1</td>\n    </tr>\n    <tr>\n      <th>24</th>\n      <td>CUS_0xb891</td>\n      <td>Jasond</td>\n      <td>2</td>\n    </tr>\n    <tr>\n      <th>25</th>\n      <td>CUS_0xb891</td>\n      <td>Jasond</td>\n      <td>2</td>\n    </tr>\n    <tr>\n      <th>26</th>\n      <td>CUS_0xb891</td>\n      <td>Jasond</td>\n      <td>2</td>\n    </tr>\n  </tbody>\n</table>\n</div>"
          },
          "metadata": {}
        }
      ],
      "execution_count": 41,
      "metadata": {
        "colab": {
          "base_uri": "https://localhost:8080/",
          "height": 520
        },
        "id": "qQzckSP-CbQq",
        "outputId": "9b0a2376-2e5e-4da9-a3fb-2e5deca89f7d",
        "gather": {
          "logged": 1682106406870
        }
      }
    },
    {
      "cell_type": "code",
      "source": [
        "cli_registros['Num_Bank_Accounts'].describe()"
      ],
      "outputs": [
        {
          "output_type": "execute_result",
          "execution_count": 42,
          "data": {
            "text/plain": "count    53049.000000\nmean        16.842806\nstd        115.605025\nmin         -1.000000\n25%          4.000000\n50%          6.000000\n75%          8.000000\nmax       1798.000000\nName: Num_Bank_Accounts, dtype: float64"
          },
          "metadata": {}
        }
      ],
      "execution_count": 42,
      "metadata": {
        "colab": {
          "base_uri": "https://localhost:8080/"
        },
        "id": "s9QN_8dXCbTF",
        "outputId": "536d85d9-a0ed-4ff5-d12f-4f415db18c1c",
        "gather": {
          "logged": 1682106435085
        }
      }
    },
    {
      "cell_type": "code",
      "source": [
        "cli_registros[cli_registros.Num_Bank_Accounts < 0]#['Num_Bank_Accounts']"
      ],
      "outputs": [
        {
          "output_type": "execute_result",
          "execution_count": 43,
          "data": {
            "text/plain": "            ID Customer_ID   Month           Name Age          SSN Occupation  \\\n30330   0xc7b8  CUS_0x4f2a   March      Margaretf  39  807-03-5415   Engineer   \n30332   0xc7ba  CUS_0x4f2a     May      Margaretf  40  807-03-5415   Engineer   \n30333   0xc7bb  CUS_0x4f2a    June      Margaretf  40  807-03-5415   Engineer   \n47212  0x12aa2  CUS_0x43bc     May  Patrick Werrl  36  307-06-8196     Lawyer   \n47214  0x12aa4  CUS_0x43bc    July  Patrick Werrl  36  307-06-8196     Lawyer   \n47215  0x12aa5  CUS_0x43bc  August  Patrick Werrl  36  307-06-8196     Lawyer   \n55636  0x15bfe  CUS_0x5993     May    Stephensonq  40  120-48-2348  Developer   \n55638  0x15c00  CUS_0x5993    July    Stephensonq  41  120-48-2348  Developer   \n\n      Annual_Income  Monthly_Inhand_Salary  Num_Bank_Accounts  ...  \\\n30330     128305.76           10434.146667                 -1  ...   \n30332     128305.76           10434.146667                 -1  ...   \n30333     128305.76           10434.146667                 -1  ...   \n47212      22312.07            2013.339167                 -1  ...   \n47214      22312.07            2013.339167                 -1  ...   \n47215      22312.07            2013.339167                 -1  ...   \n55636      30352.11            2317.342500                 -1  ...   \n55638      30352.11            2317.342500                 -1  ...   \n\n       Credit_Mix  Outstanding_Debt Credit_Utilization_Ratio  \\\n30330        Good            1151.7                40.586736   \n30332        Good            1151.7                28.702053   \n30333        Good            1151.7                34.808390   \n47212           _             51.37                40.402442   \n47214           _             51.37                25.649329   \n47215        Good             51.37                30.059211   \n55636        Good            644.57                25.532001   \n55638        Good            644.57                26.574175   \n\n           Credit_History_Age  Payment_of_Min_Amount Total_EMI_per_month  \\\n30330   22 Years and 5 Months                     No          196.587321   \n30332   22 Years and 7 Months                     No          196.587321   \n30333   22 Years and 8 Months                     No          196.587321   \n47212   23 Years and 7 Months                     No           32.891186   \n47214   23 Years and 9 Months                     No           32.891186   \n47215  23 Years and 10 Months                     No           32.891186   \n55636   23 Years and 9 Months                     NM           16.483566   \n55638  23 Years and 11 Months                     No           16.483566   \n\n      Amount_invested_monthly                 Payment_Behaviour  \\\n30330       230.9223857499363   High_spent_Large_value_payments   \n30332       150.0966753535676   High_spent_Large_value_payments   \n30333      1006.6980690205388   Low_spent_Medium_value_payments   \n47212               __10000__   High_spent_Small_value_payments   \n47214      148.93275150090662    Low_spent_Large_value_payments   \n47215       23.00309350191133  High_spent_Medium_value_payments   \n55636      126.66534532381421   Low_spent_Medium_value_payments   \n55638       64.86083753440263                            !@9#%8   \n\n          Monthly_Balance Credit_Score  \n30330   855.9049597507532     Standard  \n30332   936.7306701471217         Good  \n30333  120.12927648015079         Good  \n47212   341.0972605265373         Good  \n47214   289.5099787959108     Standard  \n47215  395.43963679490616         Good  \n55636   368.5853384529692     Standard  \n55638  400.38984624238066     Standard  \n\n[8 rows x 28 columns]",
            "text/html": "<div>\n<style scoped>\n    .dataframe tbody tr th:only-of-type {\n        vertical-align: middle;\n    }\n\n    .dataframe tbody tr th {\n        vertical-align: top;\n    }\n\n    .dataframe thead th {\n        text-align: right;\n    }\n</style>\n<table border=\"1\" class=\"dataframe\">\n  <thead>\n    <tr style=\"text-align: right;\">\n      <th></th>\n      <th>ID</th>\n      <th>Customer_ID</th>\n      <th>Month</th>\n      <th>Name</th>\n      <th>Age</th>\n      <th>SSN</th>\n      <th>Occupation</th>\n      <th>Annual_Income</th>\n      <th>Monthly_Inhand_Salary</th>\n      <th>Num_Bank_Accounts</th>\n      <th>...</th>\n      <th>Credit_Mix</th>\n      <th>Outstanding_Debt</th>\n      <th>Credit_Utilization_Ratio</th>\n      <th>Credit_History_Age</th>\n      <th>Payment_of_Min_Amount</th>\n      <th>Total_EMI_per_month</th>\n      <th>Amount_invested_monthly</th>\n      <th>Payment_Behaviour</th>\n      <th>Monthly_Balance</th>\n      <th>Credit_Score</th>\n    </tr>\n  </thead>\n  <tbody>\n    <tr>\n      <th>30330</th>\n      <td>0xc7b8</td>\n      <td>CUS_0x4f2a</td>\n      <td>March</td>\n      <td>Margaretf</td>\n      <td>39</td>\n      <td>807-03-5415</td>\n      <td>Engineer</td>\n      <td>128305.76</td>\n      <td>10434.146667</td>\n      <td>-1</td>\n      <td>...</td>\n      <td>Good</td>\n      <td>1151.7</td>\n      <td>40.586736</td>\n      <td>22 Years and 5 Months</td>\n      <td>No</td>\n      <td>196.587321</td>\n      <td>230.9223857499363</td>\n      <td>High_spent_Large_value_payments</td>\n      <td>855.9049597507532</td>\n      <td>Standard</td>\n    </tr>\n    <tr>\n      <th>30332</th>\n      <td>0xc7ba</td>\n      <td>CUS_0x4f2a</td>\n      <td>May</td>\n      <td>Margaretf</td>\n      <td>40</td>\n      <td>807-03-5415</td>\n      <td>Engineer</td>\n      <td>128305.76</td>\n      <td>10434.146667</td>\n      <td>-1</td>\n      <td>...</td>\n      <td>Good</td>\n      <td>1151.7</td>\n      <td>28.702053</td>\n      <td>22 Years and 7 Months</td>\n      <td>No</td>\n      <td>196.587321</td>\n      <td>150.0966753535676</td>\n      <td>High_spent_Large_value_payments</td>\n      <td>936.7306701471217</td>\n      <td>Good</td>\n    </tr>\n    <tr>\n      <th>30333</th>\n      <td>0xc7bb</td>\n      <td>CUS_0x4f2a</td>\n      <td>June</td>\n      <td>Margaretf</td>\n      <td>40</td>\n      <td>807-03-5415</td>\n      <td>Engineer</td>\n      <td>128305.76</td>\n      <td>10434.146667</td>\n      <td>-1</td>\n      <td>...</td>\n      <td>Good</td>\n      <td>1151.7</td>\n      <td>34.808390</td>\n      <td>22 Years and 8 Months</td>\n      <td>No</td>\n      <td>196.587321</td>\n      <td>1006.6980690205388</td>\n      <td>Low_spent_Medium_value_payments</td>\n      <td>120.12927648015079</td>\n      <td>Good</td>\n    </tr>\n    <tr>\n      <th>47212</th>\n      <td>0x12aa2</td>\n      <td>CUS_0x43bc</td>\n      <td>May</td>\n      <td>Patrick Werrl</td>\n      <td>36</td>\n      <td>307-06-8196</td>\n      <td>Lawyer</td>\n      <td>22312.07</td>\n      <td>2013.339167</td>\n      <td>-1</td>\n      <td>...</td>\n      <td>_</td>\n      <td>51.37</td>\n      <td>40.402442</td>\n      <td>23 Years and 7 Months</td>\n      <td>No</td>\n      <td>32.891186</td>\n      <td>__10000__</td>\n      <td>High_spent_Small_value_payments</td>\n      <td>341.0972605265373</td>\n      <td>Good</td>\n    </tr>\n    <tr>\n      <th>47214</th>\n      <td>0x12aa4</td>\n      <td>CUS_0x43bc</td>\n      <td>July</td>\n      <td>Patrick Werrl</td>\n      <td>36</td>\n      <td>307-06-8196</td>\n      <td>Lawyer</td>\n      <td>22312.07</td>\n      <td>2013.339167</td>\n      <td>-1</td>\n      <td>...</td>\n      <td>_</td>\n      <td>51.37</td>\n      <td>25.649329</td>\n      <td>23 Years and 9 Months</td>\n      <td>No</td>\n      <td>32.891186</td>\n      <td>148.93275150090662</td>\n      <td>Low_spent_Large_value_payments</td>\n      <td>289.5099787959108</td>\n      <td>Standard</td>\n    </tr>\n    <tr>\n      <th>47215</th>\n      <td>0x12aa5</td>\n      <td>CUS_0x43bc</td>\n      <td>August</td>\n      <td>Patrick Werrl</td>\n      <td>36</td>\n      <td>307-06-8196</td>\n      <td>Lawyer</td>\n      <td>22312.07</td>\n      <td>2013.339167</td>\n      <td>-1</td>\n      <td>...</td>\n      <td>Good</td>\n      <td>51.37</td>\n      <td>30.059211</td>\n      <td>23 Years and 10 Months</td>\n      <td>No</td>\n      <td>32.891186</td>\n      <td>23.00309350191133</td>\n      <td>High_spent_Medium_value_payments</td>\n      <td>395.43963679490616</td>\n      <td>Good</td>\n    </tr>\n    <tr>\n      <th>55636</th>\n      <td>0x15bfe</td>\n      <td>CUS_0x5993</td>\n      <td>May</td>\n      <td>Stephensonq</td>\n      <td>40</td>\n      <td>120-48-2348</td>\n      <td>Developer</td>\n      <td>30352.11</td>\n      <td>2317.342500</td>\n      <td>-1</td>\n      <td>...</td>\n      <td>Good</td>\n      <td>644.57</td>\n      <td>25.532001</td>\n      <td>23 Years and 9 Months</td>\n      <td>NM</td>\n      <td>16.483566</td>\n      <td>126.66534532381421</td>\n      <td>Low_spent_Medium_value_payments</td>\n      <td>368.5853384529692</td>\n      <td>Standard</td>\n    </tr>\n    <tr>\n      <th>55638</th>\n      <td>0x15c00</td>\n      <td>CUS_0x5993</td>\n      <td>July</td>\n      <td>Stephensonq</td>\n      <td>41</td>\n      <td>120-48-2348</td>\n      <td>Developer</td>\n      <td>30352.11</td>\n      <td>2317.342500</td>\n      <td>-1</td>\n      <td>...</td>\n      <td>Good</td>\n      <td>644.57</td>\n      <td>26.574175</td>\n      <td>23 Years and 11 Months</td>\n      <td>No</td>\n      <td>16.483566</td>\n      <td>64.86083753440263</td>\n      <td>!@9#%8</td>\n      <td>400.38984624238066</td>\n      <td>Standard</td>\n    </tr>\n  </tbody>\n</table>\n<p>8 rows × 28 columns</p>\n</div>"
          },
          "metadata": {}
        }
      ],
      "execution_count": 43,
      "metadata": {
        "colab": {
          "base_uri": "https://localhost:8080/",
          "height": 671
        },
        "id": "0ZPtgKP6CbZ1",
        "outputId": "8cfe02be-2bd4-45dc-b25b-218e1518ed50",
        "gather": {
          "logged": 1682106473776
        }
      }
    },
    {
      "cell_type": "code",
      "source": [
        "# Tratando os clientes com -1 de número de contas bancárias para 0.\n",
        "cli_registros.Num_Bank_Accounts = cli_registros['Num_Bank_Accounts'].replace(-1,0)"
      ],
      "outputs": [],
      "execution_count": 44,
      "metadata": {
        "id": "OVctgrPrEkJ3",
        "gather": {
          "logged": 1682106507769
        }
      }
    },
    {
      "cell_type": "code",
      "source": [
        "cli_registros_agrupados_banco_contas = cli_registros.groupby('Num_Bank_Accounts').count().loc[:,'ID'].rename(\"Qtde_de_amostras\")\n",
        "cli_registros_agrupados_banco_contas.sort_values(ascending=False)"
      ],
      "outputs": [
        {
          "output_type": "execute_result",
          "execution_count": 45,
          "data": {
            "text/plain": "Num_Bank_Accounts\n6       7401\n7       7081\n8       6924\n5       6204\n4       6196\n        ... \n1168       1\n1174       1\n1181       1\n1182       1\n864        1\nName: Qtde_de_amostras, Length: 569, dtype: int64"
          },
          "metadata": {}
        }
      ],
      "execution_count": 45,
      "metadata": {
        "colab": {
          "base_uri": "https://localhost:8080/"
        },
        "id": "f-1Nbwi4FPtp",
        "outputId": "558c76d6-822b-4fb8-9160-501c4357694c",
        "gather": {
          "logged": 1682106516767
        }
      }
    },
    {
      "cell_type": "code",
      "source": [
        "print('Mínimo ',cli_registros['Num_Bank_Accounts'].describe()[3])\n",
        "print('25%', cli_registros['Num_Bank_Accounts'].describe()[4])\n",
        "print('50%', cli_registros['Num_Bank_Accounts'].describe()[5])\n",
        "print('75%', cli_registros['Num_Bank_Accounts'].describe()[6])\n",
        "print('Máximo', cli_registros['Num_Bank_Accounts'].describe()[7])\n",
        "print('Média', cli_registros['Num_Bank_Accounts'].describe()[1])\n",
        "\n",
        "fig = plt.figure(figsize =(10, 7))\n",
        "plt.title('Boxplot de Num_Bank_Accounts sem outliers')\n",
        "plt.boxplot(cli_registros['Num_Bank_Accounts'],vert = False,patch_artist = True,showfliers=False)\n",
        "plt.show()"
      ],
      "outputs": [
        {
          "output_type": "stream",
          "name": "stdout",
          "text": "Mínimo  0.0\n25% 4.0\n50% 6.0\n75% 8.0\nMáximo 1798.0\nMédia 16.842956511904088\n"
        },
        {
          "output_type": "display_data",
          "data": {
            "text/plain": "<Figure size 1000x700 with 1 Axes>",
            "image/png": "[encoded data removed]"
          },
          "metadata": {}
        }
      ],
      "execution_count": 46,
      "metadata": {
        "colab": {
          "base_uri": "https://localhost:8080/",
          "height": 548
        },
        "id": "Xba-l01uu_sr",
        "outputId": "b1bfb0d8-5564-4c62-8dc8-cb5176ec6b8d",
        "gather": {
          "logged": 1682106579350
        }
      }
    },
    {
      "cell_type": "code",
      "source": [
        "cli_registros['Num_Bank_Accounts'].describe()"
      ],
      "outputs": [
        {
          "output_type": "execute_result",
          "execution_count": 47,
          "data": {
            "text/plain": "count    53049.000000\nmean        16.842957\nstd        115.605003\nmin          0.000000\n25%          4.000000\n50%          6.000000\n75%          8.000000\nmax       1798.000000\nName: Num_Bank_Accounts, dtype: float64"
          },
          "metadata": {}
        }
      ],
      "execution_count": 47,
      "metadata": {
        "colab": {
          "base_uri": "https://localhost:8080/"
        },
        "id": "-XQeVmWFwBRR",
        "outputId": "094c0dc0-a332-439b-dbd0-e526fbe7792c",
        "gather": {
          "logged": 1682106621330
        }
      }
    },
    {
      "cell_type": "markdown",
      "source": [
        "5. Variável Interest_Rate (Taxa de Juros do Cartão)"
      ],
      "metadata": {
        "id": "MMDY8JV7yJ6O"
      }
    },
    {
      "cell_type": "code",
      "source": [
        "cli_registros['Interest_Rate'].head(5)"
      ],
      "outputs": [
        {
          "output_type": "execute_result",
          "execution_count": 48,
          "data": {
            "text/plain": "0     3\n6     3\n8     6\n9     6\n10    6\nName: Interest_Rate, dtype: int64"
          },
          "metadata": {}
        }
      ],
      "execution_count": 48,
      "metadata": {
        "colab": {
          "base_uri": "https://localhost:8080/"
        },
        "id": "Gvq_3mw7yO7W",
        "outputId": "c45e9ac4-73ce-4475-9b71-f33293c008ed",
        "gather": {
          "logged": 1682106801794
        }
      }
    },
    {
      "cell_type": "code",
      "source": [
        "cli_registros['Interest_Rate'].describe()"
      ],
      "outputs": [
        {
          "output_type": "execute_result",
          "execution_count": 49,
          "data": {
            "text/plain": "count    53049.000000\nmean        76.272352\nstd        479.226709\nmin          1.000000\n25%          8.000000\n50%         15.000000\n75%         22.000000\nmax       5797.000000\nName: Interest_Rate, dtype: float64"
          },
          "metadata": {}
        }
      ],
      "execution_count": 49,
      "metadata": {
        "colab": {
          "base_uri": "https://localhost:8080/"
        },
        "id": "tX6TXHWGyO98",
        "outputId": "5fb750ce-74bc-4e8c-c15c-27d27d8064c3",
        "gather": {
          "logged": 1682106822201
        }
      }
    },
    {
      "cell_type": "code",
      "source": [
        "cli_registros.groupby('Interest_Rate').count().loc[:,'ID'].rename(\"Qtde_de_amostras\").sort_values(ascending=False)"
      ],
      "outputs": [
        {
          "output_type": "execute_result",
          "execution_count": 50,
          "data": {
            "text/plain": "Interest_Rate\n5       2455\n8       2374\n12      2344\n6       2336\n10      2307\n        ... \n3626       1\n3625       1\n3624       1\n3617       1\n2729       1\nName: Qtde_de_amostras, Length: 1060, dtype: int64"
          },
          "metadata": {}
        }
      ],
      "execution_count": 50,
      "metadata": {
        "colab": {
          "base_uri": "https://localhost:8080/"
        },
        "id": "FXzi2tdpywiW",
        "outputId": "d14e23f5-22fd-48e0-b11f-41b2df7498b5",
        "gather": {
          "logged": 1682106841713
        }
      }
    },
    {
      "cell_type": "markdown",
      "source": [
        "6. Variável Delay_from_due_date"
      ],
      "metadata": {
        "id": "gzrKJrL1zWZs"
      }
    },
    {
      "cell_type": "code",
      "source": [
        "cli_registros['Delay_from_due_date']"
      ],
      "outputs": [
        {
          "output_type": "execute_result",
          "execution_count": 53,
          "data": {
            "text/plain": "0         3\n6         3\n8         3\n9         7\n10        3\n         ..\n99994    20\n99995    23\n99996    18\n99997    27\n99999    18\nName: Delay_from_due_date, Length: 53049, dtype: int64"
          },
          "metadata": {}
        }
      ],
      "execution_count": 53,
      "metadata": {
        "colab": {
          "base_uri": "https://localhost:8080/"
        },
        "id": "Z79gQPABzaTq",
        "outputId": "74f8b9b9-7405-4330-a027-86e49cf73598",
        "gather": {
          "logged": 1682107113399
        }
      }
    },
    {
      "cell_type": "code",
      "source": [
        "cli_registros['Delay_from_due_date'].describe()"
      ],
      "outputs": [
        {
          "output_type": "execute_result",
          "execution_count": 54,
          "data": {
            "text/plain": "count    53049.000000\nmean        21.994119\nstd         15.220406\nmin         -5.000000\n25%         10.000000\n50%         19.000000\n75%         29.000000\nmax         67.000000\nName: Delay_from_due_date, dtype: float64"
          },
          "metadata": {}
        }
      ],
      "execution_count": 54,
      "metadata": {
        "colab": {
          "base_uri": "https://localhost:8080/"
        },
        "id": "U4eIob-zzaVy",
        "outputId": "57feb5be-8918-4484-b821-1548de8191a0",
        "gather": {
          "logged": 1682107127233
        }
      }
    },
    {
      "cell_type": "code",
      "source": [
        "print('Mínimo ',cli_registros['Delay_from_due_date'].describe()[3])\n",
        "print('25%', cli_registros['Delay_from_due_date'].describe()[4])\n",
        "print('50%', cli_registros['Delay_from_due_date'].describe()[5])\n",
        "print('75%', cli_registros['Delay_from_due_date'].describe()[6])\n",
        "print('Máximo', cli_registros['Delay_from_due_date'].describe()[7])\n",
        "print('Média', cli_registros['Delay_from_due_date'].describe()[1])\n",
        "\n",
        "fig = plt.figure(figsize =(10, 7))\n",
        "plt.title('Boxplot de Delay_from_due_date (duração do empréstimo) sem outliers')\n",
        "plt.boxplot(cli_registros['Delay_from_due_date'],vert = False,patch_artist = True,showfliers=False)\n",
        "plt.show()"
      ],
      "outputs": [
        {
          "output_type": "stream",
          "name": "stdout",
          "text": "Mínimo  -5.0\n25% 10.0\n50% 19.0\n75% 29.0\nMáximo 67.0\nMédia 21.994118645026298\n"
        },
        {
          "output_type": "display_data",
          "data": {
            "text/plain": "<Figure size 1000x700 with 1 Axes>",
            "image/png": "[encoded data removed]"
          },
          "metadata": {}
        }
      ],
      "execution_count": 55,
      "metadata": {
        "colab": {
          "base_uri": "https://localhost:8080/",
          "height": 548
        },
        "id": "dxrFrNIYzaX7",
        "outputId": "f456de54-65ab-41f8-cf0a-4917bbf06207",
        "gather": {
          "logged": 1682107148897
        }
      }
    },
    {
      "cell_type": "code",
      "source": [
        "cli_registros.groupby('Delay_from_due_date').count().loc[:,'ID'].rename(\"Qtde_de_amostras\").sort_values(ascending=False)"
      ],
      "outputs": [
        {
          "output_type": "execute_result",
          "execution_count": 56,
          "data": {
            "text/plain": "Delay_from_due_date\n 15    1932\n 13    1690\n 7     1684\n 8     1670\n 9     1661\n       ... \n 65      29\n-5       21\n 66      19\n-4       18\n 67      13\nName: Qtde_de_amostras, Length: 73, dtype: int64"
          },
          "metadata": {}
        }
      ],
      "execution_count": 56,
      "metadata": {
        "colab": {
          "base_uri": "https://localhost:8080/"
        },
        "id": "EHYpxtCj0B7h",
        "outputId": "4043b202-93fa-4ffc-f994-c82342ecbfe6",
        "gather": {
          "logged": 1682107182487
        }
      }
    },
    {
      "cell_type": "markdown",
      "source": [
        "7. Variável Num_of_Delayed_Payment (número médio de pagamentos atrasados por pessoa)"
      ],
      "metadata": {
        "id": "TTynZTfF0WGj"
      }
    },
    {
      "cell_type": "code",
      "source": [
        "cli_registros['Num_of_Delayed_Payment'].head(15)"
      ],
      "outputs": [
        {
          "output_type": "execute_result",
          "execution_count": 57,
          "data": {
            "text/plain": "0      7\n6     8_\n8      4\n9      1\n10    -1\n12     1\n13     0\n15     4\n16     8\n20     5\n21     6\n23     6\n24     6\n25     3\n26     9\nName: Num_of_Delayed_Payment, dtype: object"
          },
          "metadata": {}
        }
      ],
      "execution_count": 57,
      "metadata": {
        "colab": {
          "base_uri": "https://localhost:8080/"
        },
        "id": "MvsuevC30koB",
        "outputId": "bb9acae5-c38d-43ba-f1c2-416088411be0",
        "gather": {
          "logged": 1682107211112
        }
      }
    },
    {
      "cell_type": "code",
      "source": [
        "%%time\n",
        "print(\"Retificando os valores\")\n",
        "for i, infos in cli_registros.iterrows():\n",
        "  string_atraso_pag = infos['Num_of_Delayed_Payment'].replace('_','')\n",
        "  cli_registros.loc[i,'Num_of_Delayed_Payment'] = string_atraso_pag"
      ],
      "outputs": [
        {
          "output_type": "stream",
          "name": "stdout",
          "text": "Retificando os valores\nCPU times: user 37.2 s, sys: 61.6 ms, total: 37.3 s\nWall time: 37.3 s\n"
        }
      ],
      "execution_count": 58,
      "metadata": {
        "colab": {
          "base_uri": "https://localhost:8080/"
        },
        "id": "36Lgmrc12eNj",
        "outputId": "0e2f24ef-0ed5-45e5-9fd0-4cff1e024446"
      }
    },
    {
      "cell_type": "code",
      "source": [
        "cli_registros['Num_of_Delayed_Payment'] = cli_registros['Num_of_Delayed_Payment'].astype(int)\n",
        "type(cli_registros['Num_of_Delayed_Payment'])"
      ],
      "outputs": [
        {
          "output_type": "execute_result",
          "execution_count": 59,
          "data": {
            "text/plain": "pandas.core.series.Series"
          },
          "metadata": {}
        }
      ],
      "execution_count": 59,
      "metadata": {
        "colab": {
          "base_uri": "https://localhost:8080/"
        },
        "id": "vZDkqTW83aOn",
        "outputId": "b8dd6e0a-4d12-4c45-e79c-8418f6a5680b",
        "gather": {
          "logged": 1682107266349
        }
      }
    },
    {
      "cell_type": "code",
      "source": [
        "cli_registros.groupby('Num_of_Delayed_Payment').count().loc[:,'ID'].rename(\"Qtde_de_amostras\").sort_values(ascending=False)"
      ],
      "outputs": [
        {
          "output_type": "execute_result",
          "execution_count": 60,
          "data": {
            "text/plain": "Num_of_Delayed_Payment\n19      3250\n16      3193\n17      3179\n15      3100\n20      3097\n        ... \n2873       1\n2875       1\n2882       1\n2896       1\n2185       1\nName: Qtde_de_amostras, Length: 434, dtype: int64"
          },
          "metadata": {}
        }
      ],
      "execution_count": 60,
      "metadata": {
        "colab": {
          "base_uri": "https://localhost:8080/"
        },
        "id": "_wlVR9Yu320o",
        "outputId": "8b9bf02b-48f2-45d5-de7c-7329f541ad89",
        "gather": {
          "logged": 1682107339955
        }
      }
    },
    {
      "cell_type": "code",
      "source": [
        "cli_registros.columns"
      ],
      "outputs": [],
      "execution_count": null,
      "metadata": {
        "colab": {
          "base_uri": "https://localhost:8080/"
        },
        "id": "i-wXmDNT4Lfp",
        "outputId": "8f8368f3-6156-4417-f611-134e0f4dd158"
      }
    },
    {
      "cell_type": "markdown",
      "source": [
        "9. Num_Credit_Inquiries (número de consultas ao cartão de crédito)"
      ],
      "metadata": {
        "id": "1QJ2cEcr4A1-"
      }
    },
    {
      "cell_type": "code",
      "source": [
        "cli_registros['Num_Credit_Inquiries'].head(5)"
      ],
      "outputs": [
        {
          "output_type": "execute_result",
          "execution_count": 61,
          "data": {
            "text/plain": "0     4.0\n6     4.0\n8     2.0\n9     2.0\n10    2.0\nName: Num_Credit_Inquiries, dtype: float64"
          },
          "metadata": {}
        }
      ],
      "execution_count": 61,
      "metadata": {
        "colab": {
          "base_uri": "https://localhost:8080/"
        },
        "id": "I2khOfMS4Woh",
        "outputId": "f9c91610-8a9c-4fc6-9034-b557e2bf374b",
        "gather": {
          "logged": 1682107363891
        }
      }
    },
    {
      "cell_type": "code",
      "source": [
        "cli_registros['Num_Credit_Inquiries'].describe()"
      ],
      "outputs": [
        {
          "output_type": "execute_result",
          "execution_count": 62,
          "data": {
            "text/plain": "count    53049.000000\nmean        27.062866\nstd        187.185825\nmin          0.000000\n25%          3.000000\n50%          6.000000\n75%          9.000000\nmax       2594.000000\nName: Num_Credit_Inquiries, dtype: float64"
          },
          "metadata": {}
        }
      ],
      "execution_count": 62,
      "metadata": {
        "colab": {
          "base_uri": "https://localhost:8080/"
        },
        "id": "BrA84jOP4bbQ",
        "outputId": "9a6331d2-2e53-44e4-ab90-664b7b0cb64a",
        "gather": {
          "logged": 1682107405547
        }
      }
    },
    {
      "cell_type": "code",
      "source": [
        "cli_registros['Num_Credit_Inquiries'] = cli_registros['Num_Credit_Inquiries'].astype(int)\n",
        "type(cli_registros['Num_Credit_Inquiries'])"
      ],
      "outputs": [
        {
          "output_type": "execute_result",
          "execution_count": 63,
          "data": {
            "text/plain": "pandas.core.series.Series"
          },
          "metadata": {}
        }
      ],
      "execution_count": 63,
      "metadata": {
        "colab": {
          "base_uri": "https://localhost:8080/"
        },
        "id": "HhZEE6s44eLP",
        "outputId": "7f134780-09ea-4415-b67f-07265cd9122a",
        "gather": {
          "logged": 1682107423017
        }
      }
    },
    {
      "cell_type": "code",
      "source": [
        "cli_registros.groupby('Num_Credit_Inquiries').count().loc[:,'ID'].rename(\"Qtde_de_amostras\").sort_values(ascending=False)"
      ],
      "outputs": [
        {
          "output_type": "execute_result",
          "execution_count": 64,
          "data": {
            "text/plain": "Num_Credit_Inquiries\n4       5719\n7       4602\n6       4577\n8       4565\n3       4365\n        ... \n1607       1\n1605       1\n1603       1\n1601       1\n1286       1\nName: Qtde_de_amostras, Length: 747, dtype: int64"
          },
          "metadata": {}
        }
      ],
      "execution_count": 64,
      "metadata": {
        "colab": {
          "base_uri": "https://localhost:8080/"
        },
        "id": "pXNna5054jem",
        "outputId": "8e0a317d-b89c-4708-dcf6-73f0ad543f70",
        "gather": {
          "logged": 1682107435298
        }
      }
    },
    {
      "cell_type": "markdown",
      "source": [
        "10. Outstanding_Debt (montante da dívida a pagar)"
      ],
      "metadata": {
        "id": "ymIR_h5A4zFy"
      }
    },
    {
      "cell_type": "code",
      "source": [
        "cli_registros['Outstanding_Debt'].head(30)"
      ],
      "outputs": [
        {
          "output_type": "execute_result",
          "execution_count": 65,
          "data": {
            "text/plain": "0      809.98\n6      809.98\n8      605.03\n9      605.03\n10     605.03\n12     605.03\n13     605.03\n15     605.03\n16    1303.01\n20    1303.01\n21    1303.01\n23    1303.01\n24     632.46\n25     632.46\n26     632.46\n27     632.46\n28     632.46\n29     632.46\n31     632.46\n48     352.16\n49     352.16\n50     352.16\n51     352.16\n52     352.16\n55     352.16\n57    1704.18\n59    1704.18\n63    1704.18\n65    1377.74\n68    1377.74\nName: Outstanding_Debt, dtype: object"
          },
          "metadata": {}
        }
      ],
      "execution_count": 65,
      "metadata": {
        "colab": {
          "base_uri": "https://localhost:8080/"
        },
        "id": "L8O_S6-s479-",
        "outputId": "1cf5b82a-d850-4d2d-a3c4-c3b6bb34b9ff",
        "gather": {
          "logged": 1682107455140
        }
      }
    },
    {
      "cell_type": "code",
      "source": [
        "%%time\n",
        "print(\"Retificando os valores\")\n",
        "for i, infos in cli_registros.iterrows():\n",
        "  string_deb_pag = infos['Outstanding_Debt'].replace('_','')\n",
        "  cli_registros.loc[i,'Outstanding_Debt'] = string_deb_pag"
      ],
      "outputs": [
        {
          "output_type": "stream",
          "name": "stdout",
          "text": "Retificando os valores\nCPU times: user 38.7 s, sys: 17.8 ms, total: 38.8 s\nWall time: 38.8 s\n"
        }
      ],
      "execution_count": 66,
      "metadata": {
        "colab": {
          "base_uri": "https://localhost:8080/"
        },
        "id": "HAjakBzx5P8J",
        "outputId": "ed3061b3-7601-4e0e-8ca8-cfb804c135ec"
      }
    },
    {
      "cell_type": "code",
      "source": [
        "cli_registros['Outstanding_Debt'] = cli_registros['Outstanding_Debt'].astype(float)\n",
        "cli_registros['Outstanding_Debt'].describe()"
      ],
      "outputs": [
        {
          "output_type": "execute_result",
          "execution_count": 67,
          "data": {
            "text/plain": "count    53049.000000\nmean      1507.116244\nstd       1187.144881\nmin          0.230000\n25%        606.470000\n50%       1240.450000\n75%       2130.220000\nmax       4998.070000\nName: Outstanding_Debt, dtype: float64"
          },
          "metadata": {}
        }
      ],
      "execution_count": 67,
      "metadata": {
        "colab": {
          "base_uri": "https://localhost:8080/"
        },
        "id": "0jGoR_j74_Wz",
        "outputId": "c1a712b7-fe9a-40b2-b8e5-b77effb441e7",
        "gather": {
          "logged": 1682107506369
        }
      }
    },
    {
      "cell_type": "markdown",
      "source": [
        "11. Credit_Score. Target"
      ],
      "metadata": {
        "id": "wkVRFyLi5kmu"
      }
    },
    {
      "cell_type": "code",
      "source": [
        "cli_registros['Credit_Score'].head(30)"
      ],
      "outputs": [
        {
          "output_type": "execute_result",
          "execution_count": 68,
          "data": {
            "text/plain": "0         Good\n6         Good\n8     Standard\n9         Good\n10    Standard\n12        Good\n13        Good\n15        Good\n16        Good\n20        Good\n21        Good\n23    Standard\n24    Standard\n25    Standard\n26    Standard\n27    Standard\n28    Standard\n29    Standard\n31    Standard\n48        Good\n49        Good\n50        Good\n51        Good\n52        Good\n55        Good\n57        Poor\n59        Poor\n63        Poor\n65        Good\n68    Standard\nName: Credit_Score, dtype: object"
          },
          "metadata": {}
        }
      ],
      "execution_count": 68,
      "metadata": {
        "colab": {
          "base_uri": "https://localhost:8080/"
        },
        "id": "s6T8SIWp5rzW",
        "outputId": "e716682a-ac84-44c9-9309-153ac2017251",
        "gather": {
          "logged": 1682107847855
        }
      }
    },
    {
      "cell_type": "code",
      "source": [
        "cli_registros['Credit_Score'].unique()"
      ],
      "outputs": [
        {
          "output_type": "execute_result",
          "execution_count": 69,
          "data": {
            "text/plain": "array(['Good', 'Standard', 'Poor'], dtype=object)"
          },
          "metadata": {}
        }
      ],
      "execution_count": 69,
      "metadata": {
        "colab": {
          "base_uri": "https://localhost:8080/"
        },
        "id": "WCNaoZad6G8b",
        "outputId": "a89076e2-fe15-4cdc-92f3-c1d0aa1dab61",
        "gather": {
          "logged": 1682107858546
        }
      }
    },
    {
      "cell_type": "code",
      "source": [
        "agrupamento_pont_credito = cli_registros.groupby('Credit_Score').count().loc[:,'ID'].rename(\"Qtde_de_amostras\").sort_values(ascending=False)\n",
        "agrupamento_pont_credito"
      ],
      "outputs": [
        {
          "output_type": "execute_result",
          "execution_count": 70,
          "data": {
            "text/plain": "Credit_Score\nStandard    27951\nPoor        16516\nGood         8582\nName: Qtde_de_amostras, dtype: int64"
          },
          "metadata": {}
        }
      ],
      "execution_count": 70,
      "metadata": {
        "colab": {
          "base_uri": "https://localhost:8080/"
        },
        "id": "UvwbhRhu5r9w",
        "outputId": "c334e3e4-ad3a-410b-800a-897b6c9e5251",
        "gather": {
          "logged": 1682107875001
        }
      }
    },
    {
      "cell_type": "code",
      "source": [
        "plt.figure(figsize = (10,8))\n",
        "x = agrupamento_pont_credito.index\n",
        "height = agrupamento_pont_credito.values\n",
        "plt.bar(x, height)\n",
        "plt.title('Contagem de registros por pontuação de crédito')\n",
        "plt.xticks(rotation = 90)\n",
        "plt.show()"
      ],
      "outputs": [
        {
          "output_type": "display_data",
          "data": {
            "text/plain": "<Figure size 1000x800 with 1 Axes>",
            "image/png": "[encoded data removed]"
          },
          "metadata": {}
        }
      ],
      "execution_count": 71,
      "metadata": {
        "colab": {
          "base_uri": "https://localhost:8080/",
          "height": 534
        },
        "id": "Fu0HzVaO6QBu",
        "outputId": "3e4a84c0-e689-4ec1-f3b0-37675757762f",
        "gather": {
          "logged": 1682107925011
        }
      }
    },
    {
      "cell_type": "code",
      "source": [
        "plt.figure(figsize = (10,8))\n",
        "plt.title('Percentual de Qtde de Clientes por Pontuação de Crédito')\n",
        "plt.pie(agrupamento_pont_credito.values, labels=agrupamento_pont_credito.index,autopct='%1.1f%%')\n",
        "plt.show()"
      ],
      "outputs": [
        {
          "output_type": "display_data",
          "data": {
            "text/plain": "<Figure size 1000x800 with 1 Axes>",
            "image/png": "[encoded data removed]"
          },
          "metadata": {}
        }
      ],
      "execution_count": 72,
      "metadata": {
        "colab": {
          "base_uri": "https://localhost:8080/",
          "height": 482
        },
        "id": "vNNUmeyi6e3h",
        "outputId": "61113bd7-241a-4971-801a-1e69312ecd3e",
        "gather": {
          "logged": 1682107968779
        }
      }
    },
    {
      "cell_type": "markdown",
      "source": [
        "Tratando as variáveis categóricas e target"
      ],
      "metadata": {
        "id": "9O0xFNZzqExu"
      }
    },
    {
      "cell_type": "code",
      "source": [
        "categoricas = ['Month','Occupation']"
      ],
      "outputs": [],
      "execution_count": 73,
      "metadata": {
        "id": "yJatBQ24q2i9",
        "gather": {
          "logged": 1682107999482
        }
      }
    },
    {
      "cell_type": "code",
      "source": [
        "cli_registros_dummy = pd.get_dummies(cli_registros[categoricas])\n",
        "cli_registros_dummy.columns"
      ],
      "outputs": [
        {
          "output_type": "execute_result",
          "execution_count": 74,
          "data": {
            "text/plain": "Index(['Month_April', 'Month_August', 'Month_February', 'Month_January',\n       'Month_July', 'Month_June', 'Month_March', 'Month_May',\n       'Occupation_Accountant', 'Occupation_Architect',\n       'Occupation_Desconhecido', 'Occupation_Developer', 'Occupation_Doctor',\n       'Occupation_Engineer', 'Occupation_Entrepreneur',\n       'Occupation_Journalist', 'Occupation_Lawyer', 'Occupation_Manager',\n       'Occupation_Mechanic', 'Occupation_Media_Manager',\n       'Occupation_Musician', 'Occupation_Scientist', 'Occupation_Teacher',\n       'Occupation_Writer'],\n      dtype='object')"
          },
          "metadata": {}
        }
      ],
      "execution_count": 74,
      "metadata": {
        "colab": {
          "base_uri": "https://localhost:8080/"
        },
        "id": "ptXLA1zIqHMD",
        "outputId": "dbeff0b2-7d16-407a-eb26-e4b3c77f2726",
        "gather": {
          "logged": 1682108028868
        }
      }
    },
    {
      "cell_type": "code",
      "source": [
        "cli_registros_dummy.head(5)"
      ],
      "outputs": [
        {
          "output_type": "execute_result",
          "execution_count": 75,
          "data": {
            "text/plain": "    Month_April  Month_August  Month_February  Month_January  Month_July  \\\n0             0             0               0              1           0   \n6             0             0               0              0           1   \n8             0             0               0              1           0   \n9             0             0               1              0           0   \n10            0             0               0              0           0   \n\n    Month_June  Month_March  Month_May  Occupation_Accountant  \\\n0            0            0          0                      0   \n6            0            0          0                      0   \n8            0            0          0                      0   \n9            0            0          0                      0   \n10           0            1          0                      0   \n\n    Occupation_Architect  ...  Occupation_Entrepreneur  Occupation_Journalist  \\\n0                      0  ...                        0                      0   \n6                      0  ...                        0                      0   \n8                      0  ...                        0                      0   \n9                      0  ...                        0                      0   \n10                     0  ...                        0                      0   \n\n    Occupation_Lawyer  Occupation_Manager  Occupation_Mechanic  \\\n0                   0                   0                    0   \n6                   0                   0                    0   \n8                   0                   0                    0   \n9                   0                   0                    0   \n10                  0                   0                    0   \n\n    Occupation_Media_Manager  Occupation_Musician  Occupation_Scientist  \\\n0                          0                    0                     1   \n6                          0                    0                     1   \n8                          0                    0                     0   \n9                          0                    0                     0   \n10                         0                    0                     0   \n\n    Occupation_Teacher  Occupation_Writer  \n0                    0                  0  \n6                    0                  0  \n8                    0                  0  \n9                    1                  0  \n10                   1                  0  \n\n[5 rows x 24 columns]",
            "text/html": "<div>\n<style scoped>\n    .dataframe tbody tr th:only-of-type {\n        vertical-align: middle;\n    }\n\n    .dataframe tbody tr th {\n        vertical-align: top;\n    }\n\n    .dataframe thead th {\n        text-align: right;\n    }\n</style>\n<table border=\"1\" class=\"dataframe\">\n  <thead>\n    <tr style=\"text-align: right;\">\n      <th></th>\n      <th>Month_April</th>\n      <th>Month_August</th>\n      <th>Month_February</th>\n      <th>Month_January</th>\n      <th>Month_July</th>\n      <th>Month_June</th>\n      <th>Month_March</th>\n      <th>Month_May</th>\n      <th>Occupation_Accountant</th>\n      <th>Occupation_Architect</th>\n      <th>...</th>\n      <th>Occupation_Entrepreneur</th>\n      <th>Occupation_Journalist</th>\n      <th>Occupation_Lawyer</th>\n      <th>Occupation_Manager</th>\n      <th>Occupation_Mechanic</th>\n      <th>Occupation_Media_Manager</th>\n      <th>Occupation_Musician</th>\n      <th>Occupation_Scientist</th>\n      <th>Occupation_Teacher</th>\n      <th>Occupation_Writer</th>\n    </tr>\n  </thead>\n  <tbody>\n    <tr>\n      <th>0</th>\n      <td>0</td>\n      <td>0</td>\n      <td>0</td>\n      <td>1</td>\n      <td>0</td>\n      <td>0</td>\n      <td>0</td>\n      <td>0</td>\n      <td>0</td>\n      <td>0</td>\n      <td>...</td>\n      <td>0</td>\n      <td>0</td>\n      <td>0</td>\n      <td>0</td>\n      <td>0</td>\n      <td>0</td>\n      <td>0</td>\n      <td>1</td>\n      <td>0</td>\n      <td>0</td>\n    </tr>\n    <tr>\n      <th>6</th>\n      <td>0</td>\n      <td>0</td>\n      <td>0</td>\n      <td>0</td>\n      <td>1</td>\n      <td>0</td>\n      <td>0</td>\n      <td>0</td>\n      <td>0</td>\n      <td>0</td>\n      <td>...</td>\n      <td>0</td>\n      <td>0</td>\n      <td>0</td>\n      <td>0</td>\n      <td>0</td>\n      <td>0</td>\n      <td>0</td>\n      <td>1</td>\n      <td>0</td>\n      <td>0</td>\n    </tr>\n    <tr>\n      <th>8</th>\n      <td>0</td>\n      <td>0</td>\n      <td>0</td>\n      <td>1</td>\n      <td>0</td>\n      <td>0</td>\n      <td>0</td>\n      <td>0</td>\n      <td>0</td>\n      <td>0</td>\n      <td>...</td>\n      <td>0</td>\n      <td>0</td>\n      <td>0</td>\n      <td>0</td>\n      <td>0</td>\n      <td>0</td>\n      <td>0</td>\n      <td>0</td>\n      <td>0</td>\n      <td>0</td>\n    </tr>\n    <tr>\n      <th>9</th>\n      <td>0</td>\n      <td>0</td>\n      <td>1</td>\n      <td>0</td>\n      <td>0</td>\n      <td>0</td>\n      <td>0</td>\n      <td>0</td>\n      <td>0</td>\n      <td>0</td>\n      <td>...</td>\n      <td>0</td>\n      <td>0</td>\n      <td>0</td>\n      <td>0</td>\n      <td>0</td>\n      <td>0</td>\n      <td>0</td>\n      <td>0</td>\n      <td>1</td>\n      <td>0</td>\n    </tr>\n    <tr>\n      <th>10</th>\n      <td>0</td>\n      <td>0</td>\n      <td>0</td>\n      <td>0</td>\n      <td>0</td>\n      <td>0</td>\n      <td>1</td>\n      <td>0</td>\n      <td>0</td>\n      <td>0</td>\n      <td>...</td>\n      <td>0</td>\n      <td>0</td>\n      <td>0</td>\n      <td>0</td>\n      <td>0</td>\n      <td>0</td>\n      <td>0</td>\n      <td>0</td>\n      <td>1</td>\n      <td>0</td>\n    </tr>\n  </tbody>\n</table>\n<p>5 rows × 24 columns</p>\n</div>"
          },
          "metadata": {}
        }
      ],
      "execution_count": 75,
      "metadata": {
        "jupyter": {
          "source_hidden": false,
          "outputs_hidden": false
        },
        "nteract": {
          "transient": {
            "deleting": false
          }
        },
        "gather": {
          "logged": 1682108088685
        }
      }
    },
    {
      "cell_type": "code",
      "source": [
        "# Exemplo: varíavel Occupation\n",
        "cli_registros_dummy[['Occupation_Architect',\n",
        "       'Occupation_Desconhecido', 'Occupation_Developer', 'Occupation_Doctor',\n",
        "       'Occupation_Engineer', 'Occupation_Entrepreneur',\n",
        "       'Occupation_Journalist', 'Occupation_Lawyer', 'Occupation_Manager',\n",
        "       'Occupation_Mechanic', 'Occupation_Media_Manager',\n",
        "       'Occupation_Musician', 'Occupation_Scientist', 'Occupation_Teacher',\n",
        "       'Occupation_Writer']].head(5)"
      ],
      "outputs": [
        {
          "output_type": "execute_result",
          "execution_count": 76,
          "data": {
            "text/plain": "    Occupation_Architect  Occupation_Desconhecido  Occupation_Developer  \\\n0                      0                        0                     0   \n6                      0                        0                     0   \n8                      0                        1                     0   \n9                      0                        0                     0   \n10                     0                        0                     0   \n\n    Occupation_Doctor  Occupation_Engineer  Occupation_Entrepreneur  \\\n0                   0                    0                        0   \n6                   0                    0                        0   \n8                   0                    0                        0   \n9                   0                    0                        0   \n10                  0                    0                        0   \n\n    Occupation_Journalist  Occupation_Lawyer  Occupation_Manager  \\\n0                       0                  0                   0   \n6                       0                  0                   0   \n8                       0                  0                   0   \n9                       0                  0                   0   \n10                      0                  0                   0   \n\n    Occupation_Mechanic  Occupation_Media_Manager  Occupation_Musician  \\\n0                     0                         0                    0   \n6                     0                         0                    0   \n8                     0                         0                    0   \n9                     0                         0                    0   \n10                    0                         0                    0   \n\n    Occupation_Scientist  Occupation_Teacher  Occupation_Writer  \n0                      1                   0                  0  \n6                      1                   0                  0  \n8                      0                   0                  0  \n9                      0                   1                  0  \n10                     0                   1                  0  ",
            "text/html": "<div>\n<style scoped>\n    .dataframe tbody tr th:only-of-type {\n        vertical-align: middle;\n    }\n\n    .dataframe tbody tr th {\n        vertical-align: top;\n    }\n\n    .dataframe thead th {\n        text-align: right;\n    }\n</style>\n<table border=\"1\" class=\"dataframe\">\n  <thead>\n    <tr style=\"text-align: right;\">\n      <th></th>\n      <th>Occupation_Architect</th>\n      <th>Occupation_Desconhecido</th>\n      <th>Occupation_Developer</th>\n      <th>Occupation_Doctor</th>\n      <th>Occupation_Engineer</th>\n      <th>Occupation_Entrepreneur</th>\n      <th>Occupation_Journalist</th>\n      <th>Occupation_Lawyer</th>\n      <th>Occupation_Manager</th>\n      <th>Occupation_Mechanic</th>\n      <th>Occupation_Media_Manager</th>\n      <th>Occupation_Musician</th>\n      <th>Occupation_Scientist</th>\n      <th>Occupation_Teacher</th>\n      <th>Occupation_Writer</th>\n    </tr>\n  </thead>\n  <tbody>\n    <tr>\n      <th>0</th>\n      <td>0</td>\n      <td>0</td>\n      <td>0</td>\n      <td>0</td>\n      <td>0</td>\n      <td>0</td>\n      <td>0</td>\n      <td>0</td>\n      <td>0</td>\n      <td>0</td>\n      <td>0</td>\n      <td>0</td>\n      <td>1</td>\n      <td>0</td>\n      <td>0</td>\n    </tr>\n    <tr>\n      <th>6</th>\n      <td>0</td>\n      <td>0</td>\n      <td>0</td>\n      <td>0</td>\n      <td>0</td>\n      <td>0</td>\n      <td>0</td>\n      <td>0</td>\n      <td>0</td>\n      <td>0</td>\n      <td>0</td>\n      <td>0</td>\n      <td>1</td>\n      <td>0</td>\n      <td>0</td>\n    </tr>\n    <tr>\n      <th>8</th>\n      <td>0</td>\n      <td>1</td>\n      <td>0</td>\n      <td>0</td>\n      <td>0</td>\n      <td>0</td>\n      <td>0</td>\n      <td>0</td>\n      <td>0</td>\n      <td>0</td>\n      <td>0</td>\n      <td>0</td>\n      <td>0</td>\n      <td>0</td>\n      <td>0</td>\n    </tr>\n    <tr>\n      <th>9</th>\n      <td>0</td>\n      <td>0</td>\n      <td>0</td>\n      <td>0</td>\n      <td>0</td>\n      <td>0</td>\n      <td>0</td>\n      <td>0</td>\n      <td>0</td>\n      <td>0</td>\n      <td>0</td>\n      <td>0</td>\n      <td>0</td>\n      <td>1</td>\n      <td>0</td>\n    </tr>\n    <tr>\n      <th>10</th>\n      <td>0</td>\n      <td>0</td>\n      <td>0</td>\n      <td>0</td>\n      <td>0</td>\n      <td>0</td>\n      <td>0</td>\n      <td>0</td>\n      <td>0</td>\n      <td>0</td>\n      <td>0</td>\n      <td>0</td>\n      <td>0</td>\n      <td>1</td>\n      <td>0</td>\n    </tr>\n  </tbody>\n</table>\n</div>"
          },
          "metadata": {}
        }
      ],
      "execution_count": 76,
      "metadata": {
        "colab": {
          "base_uri": "https://localhost:8080/",
          "height": 270
        },
        "id": "xaQ5RJJArKsL",
        "outputId": "99c30e74-add3-4da7-f1ba-b48df28da3d9",
        "gather": {
          "logged": 1682108115600
        }
      }
    },
    {
      "cell_type": "code",
      "source": [
        "cli_registros['Occupation'].head(5)"
      ],
      "outputs": [
        {
          "output_type": "execute_result",
          "execution_count": 77,
          "data": {
            "text/plain": "0        Scientist\n6        Scientist\n8     Desconhecido\n9          Teacher\n10         Teacher\nName: Occupation, dtype: object"
          },
          "metadata": {}
        }
      ],
      "execution_count": 77,
      "metadata": {
        "jupyter": {
          "source_hidden": false,
          "outputs_hidden": false
        },
        "nteract": {
          "transient": {
            "deleting": false
          }
        },
        "gather": {
          "logged": 1682108170917
        }
      }
    },
    {
      "cell_type": "markdown",
      "source": [
        "Tratando a variável TARGET"
      ],
      "metadata": {
        "id": "1aFYBxsjrk1q"
      }
    },
    {
      "cell_type": "code",
      "source": [
        "cli_registros['Credit_Score'].unique()"
      ],
      "outputs": [
        {
          "output_type": "execute_result",
          "execution_count": 78,
          "data": {
            "text/plain": "array(['Good', 'Standard', 'Poor'], dtype=object)"
          },
          "metadata": {}
        }
      ],
      "execution_count": 78,
      "metadata": {
        "colab": {
          "base_uri": "https://localhost:8080/"
        },
        "id": "HoBr4k9Truem",
        "outputId": "7e18378b-b95d-4906-8a51-b61284e7c468",
        "gather": {
          "logged": 1682108194782
        }
      }
    },
    {
      "cell_type": "code",
      "source": [
        "cli_registros_target = cli_registros['Credit_Score'].replace(\"Poor\", 1)\n",
        "cli_registros_target = cli_registros_target.replace(\"Standard\", 2)\n",
        "cli_registros_target = cli_registros_target.replace(\"Good\", 3)\n",
        "cli_registros_target = cli_registros_target.rename(\"Credit_Score\").to_frame()"
      ],
      "outputs": [],
      "execution_count": 79,
      "metadata": {
        "id": "xiHIbZDArVPA",
        "gather": {
          "logged": 1682108214010
        }
      }
    },
    {
      "cell_type": "code",
      "source": [
        "cli_registros_target"
      ],
      "outputs": [
        {
          "output_type": "execute_result",
          "execution_count": 80,
          "data": {
            "text/plain": "       Credit_Score\n0                 3\n6                 3\n8                 2\n9                 3\n10                2\n...             ...\n99994             1\n99995             1\n99996             1\n99997             1\n99999             1\n\n[53049 rows x 1 columns]",
            "text/html": "<div>\n<style scoped>\n    .dataframe tbody tr th:only-of-type {\n        vertical-align: middle;\n    }\n\n    .dataframe tbody tr th {\n        vertical-align: top;\n    }\n\n    .dataframe thead th {\n        text-align: right;\n    }\n</style>\n<table border=\"1\" class=\"dataframe\">\n  <thead>\n    <tr style=\"text-align: right;\">\n      <th></th>\n      <th>Credit_Score</th>\n    </tr>\n  </thead>\n  <tbody>\n    <tr>\n      <th>0</th>\n      <td>3</td>\n    </tr>\n    <tr>\n      <th>6</th>\n      <td>3</td>\n    </tr>\n    <tr>\n      <th>8</th>\n      <td>2</td>\n    </tr>\n    <tr>\n      <th>9</th>\n      <td>3</td>\n    </tr>\n    <tr>\n      <th>10</th>\n      <td>2</td>\n    </tr>\n    <tr>\n      <th>...</th>\n      <td>...</td>\n    </tr>\n    <tr>\n      <th>99994</th>\n      <td>1</td>\n    </tr>\n    <tr>\n      <th>99995</th>\n      <td>1</td>\n    </tr>\n    <tr>\n      <th>99996</th>\n      <td>1</td>\n    </tr>\n    <tr>\n      <th>99997</th>\n      <td>1</td>\n    </tr>\n    <tr>\n      <th>99999</th>\n      <td>1</td>\n    </tr>\n  </tbody>\n</table>\n<p>53049 rows × 1 columns</p>\n</div>"
          },
          "metadata": {}
        }
      ],
      "execution_count": 80,
      "metadata": {
        "colab": {
          "base_uri": "https://localhost:8080/",
          "height": 424
        },
        "id": "7LeLofVWsGVd",
        "outputId": "c6bb6b22-da02-433b-c13f-c8e3b6867c33",
        "gather": {
          "logged": 1682108218061
        }
      }
    },
    {
      "cell_type": "code",
      "source": [
        "cli_registros_target['Credit_Score'].unique()"
      ],
      "outputs": [
        {
          "output_type": "execute_result",
          "execution_count": 81,
          "data": {
            "text/plain": "array([3, 2, 1])"
          },
          "metadata": {}
        }
      ],
      "execution_count": 81,
      "metadata": {
        "colab": {
          "base_uri": "https://localhost:8080/"
        },
        "id": "Xj62Ju-NsYtv",
        "outputId": "8e14a757-fe7a-46b5-a494-ba33c53360de",
        "gather": {
          "logged": 1682108234358
        }
      }
    },
    {
      "cell_type": "code",
      "source": [
        "# Avaliando o possível DESBALANÇEAMENTO entre CLASSES\n",
        "cli_registros.groupby(['Credit_Score']).count()['ID']"
      ],
      "outputs": [
        {
          "output_type": "execute_result",
          "execution_count": 82,
          "data": {
            "text/plain": "Credit_Score\nGood         8582\nPoor        16516\nStandard    27951\nName: ID, dtype: int64"
          },
          "metadata": {}
        }
      ],
      "execution_count": 82,
      "metadata": {
        "colab": {
          "base_uri": "https://localhost:8080/"
        },
        "id": "dW1emoNYz5E4",
        "outputId": "95ec4b25-b97c-4c44-fab3-8221f580b38e",
        "gather": {
          "logged": 1682108248315
        }
      }
    },
    {
      "cell_type": "code",
      "source": [
        "len(cli_registros_target)"
      ],
      "outputs": [],
      "execution_count": null,
      "metadata": {
        "colab": {
          "base_uri": "https://localhost:8080/"
        },
        "id": "1hd-Exw9tunr",
        "outputId": "e0d8d941-831a-42a8-8009-3e4c4338af16"
      }
    },
    {
      "cell_type": "code",
      "source": [
        "cli_registros.shape"
      ],
      "outputs": [],
      "execution_count": null,
      "metadata": {
        "colab": {
          "base_uri": "https://localhost:8080/"
        },
        "id": "wpu6a2QZt5YT",
        "outputId": "96dec793-11eb-4ed3-9020-ec73c00132da"
      }
    },
    {
      "cell_type": "code",
      "source": [
        "cli_registros_target.shape"
      ],
      "outputs": [],
      "execution_count": null,
      "metadata": {
        "colab": {
          "base_uri": "https://localhost:8080/"
        },
        "id": "mfc_gcFOt7r1",
        "outputId": "eb35e5b3-54d7-4725-d00e-c2c2728e630d"
      }
    },
    {
      "cell_type": "code",
      "source": [
        "cli_registros_dummy.shape"
      ],
      "outputs": [],
      "execution_count": null,
      "metadata": {
        "colab": {
          "base_uri": "https://localhost:8080/"
        },
        "id": "sYHpUvHet7t7",
        "outputId": "ee5874a1-dc82-460d-837e-61f6a21f69b6"
      }
    },
    {
      "cell_type": "code",
      "source": [
        "# Juntando todos\n",
        "cli_registros_features_target_tratado = pd.concat([cli_registros[['Monthly_Inhand_Salary',\n",
        "                                                                  'Num_Bank_Accounts',\n",
        "                                                                  'Delay_from_due_date',\n",
        "                                                                  'Num_Credit_Inquiries',\n",
        "                                                                  'Outstanding_Debt']],cli_registros_dummy, cli_registros_target],axis=1)\n",
        "cli_registros_features_target_tratado"
      ],
      "outputs": [
        {
          "output_type": "execute_result",
          "execution_count": 83,
          "data": {
            "text/plain": "       Monthly_Inhand_Salary  Num_Bank_Accounts  Delay_from_due_date  \\\n0                1824.843333                  3                    3   \n6                1824.843333                  3                    3   \n8                3037.986667                  2                    3   \n9                3037.986667                  2                    7   \n10               3037.986667                  2                    3   \n...                      ...                ...                  ...   \n99994            3359.415833                  4                   20   \n99995            3359.415833                  4                   23   \n99996            3359.415833                  4                   18   \n99997            3359.415833                  4                   27   \n99999            3359.415833                  4                   18   \n\n       Num_Credit_Inquiries  Outstanding_Debt  Month_April  Month_August  \\\n0                         4            809.98            0             0   \n6                         4            809.98            0             0   \n8                         2            605.03            0             0   \n9                         2            605.03            0             0   \n10                        2            605.03            0             0   \n...                     ...               ...          ...           ...   \n99994                     3            502.38            0             0   \n99995                     3            502.38            1             0   \n99996                     3            502.38            0             0   \n99997                     3            502.38            0             0   \n99999                     3            502.38            0             1   \n\n       Month_February  Month_January  Month_July  ...  Occupation_Journalist  \\\n0                   0              1           0  ...                      0   \n6                   0              0           1  ...                      0   \n8                   0              1           0  ...                      0   \n9                   1              0           0  ...                      0   \n10                  0              0           0  ...                      0   \n...               ...            ...         ...  ...                    ...   \n99994               0              0           0  ...                      0   \n99995               0              0           0  ...                      0   \n99996               0              0           0  ...                      0   \n99997               0              0           0  ...                      0   \n99999               0              0           0  ...                      0   \n\n       Occupation_Lawyer  Occupation_Manager  Occupation_Mechanic  \\\n0                      0                   0                    0   \n6                      0                   0                    0   \n8                      0                   0                    0   \n9                      0                   0                    0   \n10                     0                   0                    0   \n...                  ...                 ...                  ...   \n99994                  0                   0                    1   \n99995                  0                   0                    1   \n99996                  0                   0                    1   \n99997                  0                   0                    1   \n99999                  0                   0                    1   \n\n       Occupation_Media_Manager  Occupation_Musician  Occupation_Scientist  \\\n0                             0                    0                     1   \n6                             0                    0                     1   \n8                             0                    0                     0   \n9                             0                    0                     0   \n10                            0                    0                     0   \n...                         ...                  ...                   ...   \n99994                         0                    0                     0   \n99995                         0                    0                     0   \n99996                         0                    0                     0   \n99997                         0                    0                     0   \n99999                         0                    0                     0   \n\n       Occupation_Teacher  Occupation_Writer  Credit_Score  \n0                       0                  0             3  \n6                       0                  0             3  \n8                       0                  0             2  \n9                       1                  0             3  \n10                      1                  0             2  \n...                   ...                ...           ...  \n99994                   0                  0             1  \n99995                   0                  0             1  \n99996                   0                  0             1  \n99997                   0                  0             1  \n99999                   0                  0             1  \n\n[53049 rows x 30 columns]",
            "text/html": "<div>\n<style scoped>\n    .dataframe tbody tr th:only-of-type {\n        vertical-align: middle;\n    }\n\n    .dataframe tbody tr th {\n        vertical-align: top;\n    }\n\n    .dataframe thead th {\n        text-align: right;\n    }\n</style>\n<table border=\"1\" class=\"dataframe\">\n  <thead>\n    <tr style=\"text-align: right;\">\n      <th></th>\n      <th>Monthly_Inhand_Salary</th>\n      <th>Num_Bank_Accounts</th>\n      <th>Delay_from_due_date</th>\n      <th>Num_Credit_Inquiries</th>\n      <th>Outstanding_Debt</th>\n      <th>Month_April</th>\n      <th>Month_August</th>\n      <th>Month_February</th>\n      <th>Month_January</th>\n      <th>Month_July</th>\n      <th>...</th>\n      <th>Occupation_Journalist</th>\n      <th>Occupation_Lawyer</th>\n      <th>Occupation_Manager</th>\n      <th>Occupation_Mechanic</th>\n      <th>Occupation_Media_Manager</th>\n      <th>Occupation_Musician</th>\n      <th>Occupation_Scientist</th>\n      <th>Occupation_Teacher</th>\n      <th>Occupation_Writer</th>\n      <th>Credit_Score</th>\n    </tr>\n  </thead>\n  <tbody>\n    <tr>\n      <th>0</th>\n      <td>1824.843333</td>\n      <td>3</td>\n      <td>3</td>\n      <td>4</td>\n      <td>809.98</td>\n      <td>0</td>\n      <td>0</td>\n      <td>0</td>\n      <td>1</td>\n      <td>0</td>\n      <td>...</td>\n      <td>0</td>\n      <td>0</td>\n      <td>0</td>\n      <td>0</td>\n      <td>0</td>\n      <td>0</td>\n      <td>1</td>\n      <td>0</td>\n      <td>0</td>\n      <td>3</td>\n    </tr>\n    <tr>\n      <th>6</th>\n      <td>1824.843333</td>\n      <td>3</td>\n      <td>3</td>\n      <td>4</td>\n      <td>809.98</td>\n      <td>0</td>\n      <td>0</td>\n      <td>0</td>\n      <td>0</td>\n      <td>1</td>\n      <td>...</td>\n      <td>0</td>\n      <td>0</td>\n      <td>0</td>\n      <td>0</td>\n      <td>0</td>\n      <td>0</td>\n      <td>1</td>\n      <td>0</td>\n      <td>0</td>\n      <td>3</td>\n    </tr>\n    <tr>\n      <th>8</th>\n      <td>3037.986667</td>\n      <td>2</td>\n      <td>3</td>\n      <td>2</td>\n      <td>605.03</td>\n      <td>0</td>\n      <td>0</td>\n      <td>0</td>\n      <td>1</td>\n      <td>0</td>\n      <td>...</td>\n      <td>0</td>\n      <td>0</td>\n      <td>0</td>\n      <td>0</td>\n      <td>0</td>\n      <td>0</td>\n      <td>0</td>\n      <td>0</td>\n      <td>0</td>\n      <td>2</td>\n    </tr>\n    <tr>\n      <th>9</th>\n      <td>3037.986667</td>\n      <td>2</td>\n      <td>7</td>\n      <td>2</td>\n      <td>605.03</td>\n      <td>0</td>\n      <td>0</td>\n      <td>1</td>\n      <td>0</td>\n      <td>0</td>\n      <td>...</td>\n      <td>0</td>\n      <td>0</td>\n      <td>0</td>\n      <td>0</td>\n      <td>0</td>\n      <td>0</td>\n      <td>0</td>\n      <td>1</td>\n      <td>0</td>\n      <td>3</td>\n    </tr>\n    <tr>\n      <th>10</th>\n      <td>3037.986667</td>\n      <td>2</td>\n      <td>3</td>\n      <td>2</td>\n      <td>605.03</td>\n      <td>0</td>\n      <td>0</td>\n      <td>0</td>\n      <td>0</td>\n      <td>0</td>\n      <td>...</td>\n      <td>0</td>\n      <td>0</td>\n      <td>0</td>\n      <td>0</td>\n      <td>0</td>\n      <td>0</td>\n      <td>0</td>\n      <td>1</td>\n      <td>0</td>\n      <td>2</td>\n    </tr>\n    <tr>\n      <th>...</th>\n      <td>...</td>\n      <td>...</td>\n      <td>...</td>\n      <td>...</td>\n      <td>...</td>\n      <td>...</td>\n      <td>...</td>\n      <td>...</td>\n      <td>...</td>\n      <td>...</td>\n      <td>...</td>\n      <td>...</td>\n      <td>...</td>\n      <td>...</td>\n      <td>...</td>\n      <td>...</td>\n      <td>...</td>\n      <td>...</td>\n      <td>...</td>\n      <td>...</td>\n      <td>...</td>\n    </tr>\n    <tr>\n      <th>99994</th>\n      <td>3359.415833</td>\n      <td>4</td>\n      <td>20</td>\n      <td>3</td>\n      <td>502.38</td>\n      <td>0</td>\n      <td>0</td>\n      <td>0</td>\n      <td>0</td>\n      <td>0</td>\n      <td>...</td>\n      <td>0</td>\n      <td>0</td>\n      <td>0</td>\n      <td>1</td>\n      <td>0</td>\n      <td>0</td>\n      <td>0</td>\n      <td>0</td>\n      <td>0</td>\n      <td>1</td>\n    </tr>\n    <tr>\n      <th>99995</th>\n      <td>3359.415833</td>\n      <td>4</td>\n      <td>23</td>\n      <td>3</td>\n      <td>502.38</td>\n      <td>1</td>\n      <td>0</td>\n      <td>0</td>\n      <td>0</td>\n      <td>0</td>\n      <td>...</td>\n      <td>0</td>\n      <td>0</td>\n      <td>0</td>\n      <td>1</td>\n      <td>0</td>\n      <td>0</td>\n      <td>0</td>\n      <td>0</td>\n      <td>0</td>\n      <td>1</td>\n    </tr>\n    <tr>\n      <th>99996</th>\n      <td>3359.415833</td>\n      <td>4</td>\n      <td>18</td>\n      <td>3</td>\n      <td>502.38</td>\n      <td>0</td>\n      <td>0</td>\n      <td>0</td>\n      <td>0</td>\n      <td>0</td>\n      <td>...</td>\n      <td>0</td>\n      <td>0</td>\n      <td>0</td>\n      <td>1</td>\n      <td>0</td>\n      <td>0</td>\n      <td>0</td>\n      <td>0</td>\n      <td>0</td>\n      <td>1</td>\n    </tr>\n    <tr>\n      <th>99997</th>\n      <td>3359.415833</td>\n      <td>4</td>\n      <td>27</td>\n      <td>3</td>\n      <td>502.38</td>\n      <td>0</td>\n      <td>0</td>\n      <td>0</td>\n      <td>0</td>\n      <td>0</td>\n      <td>...</td>\n      <td>0</td>\n      <td>0</td>\n      <td>0</td>\n      <td>1</td>\n      <td>0</td>\n      <td>0</td>\n      <td>0</td>\n      <td>0</td>\n      <td>0</td>\n      <td>1</td>\n    </tr>\n    <tr>\n      <th>99999</th>\n      <td>3359.415833</td>\n      <td>4</td>\n      <td>18</td>\n      <td>3</td>\n      <td>502.38</td>\n      <td>0</td>\n      <td>1</td>\n      <td>0</td>\n      <td>0</td>\n      <td>0</td>\n      <td>...</td>\n      <td>0</td>\n      <td>0</td>\n      <td>0</td>\n      <td>1</td>\n      <td>0</td>\n      <td>0</td>\n      <td>0</td>\n      <td>0</td>\n      <td>0</td>\n      <td>1</td>\n    </tr>\n  </tbody>\n</table>\n<p>53049 rows × 30 columns</p>\n</div>"
          },
          "metadata": {}
        }
      ],
      "execution_count": 83,
      "metadata": {
        "colab": {
          "base_uri": "https://localhost:8080/",
          "height": 488
        },
        "id": "Xz-UkuVytGWN",
        "outputId": "8ec8aa13-7c60-466a-9196-995806e72d05",
        "gather": {
          "logged": 1682108296947
        }
      }
    },
    {
      "cell_type": "code",
      "source": [
        "cli_registros_features_target_tratado.columns"
      ],
      "outputs": [
        {
          "output_type": "execute_result",
          "execution_count": 84,
          "data": {
            "text/plain": "Index(['Monthly_Inhand_Salary', 'Num_Bank_Accounts', 'Delay_from_due_date',\n       'Num_Credit_Inquiries', 'Outstanding_Debt', 'Month_April',\n       'Month_August', 'Month_February', 'Month_January', 'Month_July',\n       'Month_June', 'Month_March', 'Month_May', 'Occupation_Accountant',\n       'Occupation_Architect', 'Occupation_Desconhecido',\n       'Occupation_Developer', 'Occupation_Doctor', 'Occupation_Engineer',\n       'Occupation_Entrepreneur', 'Occupation_Journalist', 'Occupation_Lawyer',\n       'Occupation_Manager', 'Occupation_Mechanic', 'Occupation_Media_Manager',\n       'Occupation_Musician', 'Occupation_Scientist', 'Occupation_Teacher',\n       'Occupation_Writer', 'Credit_Score'],\n      dtype='object')"
          },
          "metadata": {}
        }
      ],
      "execution_count": 84,
      "metadata": {
        "colab": {
          "base_uri": "https://localhost:8080/"
        },
        "id": "7sd-V8RUuOwa",
        "outputId": "ce411c72-8150-4939-9df4-de58b2a3c9e3",
        "gather": {
          "logged": 1682108301786
        }
      }
    },
    {
      "cell_type": "markdown",
      "source": [
        "Divisão entre Dados de Treino e Teste"
      ],
      "metadata": {
        "id": "6ZIArdawpZmV"
      }
    },
    {
      "cell_type": "code",
      "source": [
        "cli_registros.shape"
      ],
      "outputs": [],
      "execution_count": null,
      "metadata": {
        "colab": {
          "base_uri": "https://localhost:8080/"
        },
        "id": "CYi1VPZmpgt7",
        "outputId": "523c1116-0933-4018-db8c-b27621cee496"
      }
    },
    {
      "cell_type": "code",
      "source": [
        "cli_registros.columns"
      ],
      "outputs": [],
      "execution_count": null,
      "metadata": {
        "colab": {
          "base_uri": "https://localhost:8080/"
        },
        "id": "h21h3wp4qIvq",
        "outputId": "675828c0-3477-454b-d475-5f3ae40675e0"
      }
    },
    {
      "cell_type": "code",
      "source": [
        "cli_registros_features_target_tratado"
      ],
      "outputs": [],
      "execution_count": null,
      "metadata": {
        "colab": {
          "base_uri": "https://localhost:8080/",
          "height": 488
        },
        "id": "jMgegMUgwIhq",
        "outputId": "676aa35c-91d0-4039-9964-ca08ddf60344"
      }
    },
    {
      "cell_type": "code",
      "source": [
        "X_train, X_test, y_train, y_test = train_test_split(cli_registros_features_target_tratado.loc[:,cli_registros_features_target_tratado.columns != 'Credit_Score'], \n",
        "                                                    cli_registros_features_target_tratado.loc[:,'Credit_Score'], test_size=0.33, random_state = 42)"
      ],
      "outputs": [],
      "execution_count": 85,
      "metadata": {
        "id": "uuCsr6lQp_3X",
        "gather": {
          "logged": 1682108756542
        }
      }
    },
    {
      "cell_type": "code",
      "source": [
        "total_amostra = len(cli_registros_features_target_tratado)\n",
        "print('Qtde total da amostra ',total_amostra)\n",
        "print(\"Qtde de amostras de treino \",len(X_train))\n",
        "print(\"Qtde de amostras de teste \",len(X_test))\n",
        "print(\"% Qtde de amostras de treino \",len(X_train)/total_amostra * 100)\n",
        "print(\"% Qtde de amostras de teste \",len(X_test)/total_amostra * 100)"
      ],
      "outputs": [
        {
          "output_type": "stream",
          "name": "stdout",
          "text": "Qtde total da amostra  53049\nQtde de amostras de treino  35542\nQtde de amostras de teste  17507\n% Qtde de amostras de treino  66.99843540877302\n% Qtde de amostras de teste  33.00156459122698\n"
        }
      ],
      "execution_count": 86,
      "metadata": {
        "colab": {
          "base_uri": "https://localhost:8080/"
        },
        "id": "FL-6WsNruxqh",
        "outputId": "be310d23-1a19-4eee-b05d-45b992d23b22",
        "gather": {
          "logged": 1682108760291
        }
      }
    },
    {
      "cell_type": "markdown",
      "source": [
        "Treinamento do Modelo"
      ],
      "metadata": {
        "id": "3RbQ92YUpdC6"
      }
    },
    {
      "cell_type": "code",
      "source": [
        "%%time\n",
        "modelo = DecisionTreeClassifier(max_depth=5, random_state=42)\n",
        "modelo_treinado = modelo.fit(X_train,y_train)\n",
        "print('Modelo treinado')"
      ],
      "outputs": [
        {
          "output_type": "stream",
          "name": "stdout",
          "text": "Modelo treinado\nCPU times: user 81.8 ms, sys: 72 µs, total: 81.9 ms\nWall time: 93.3 ms\n"
        }
      ],
      "execution_count": 87,
      "metadata": {
        "colab": {
          "base_uri": "https://localhost:8080/"
        },
        "id": "9JYoFmpmw4IH",
        "outputId": "0d5f5e02-8773-4d66-86a5-8b68be0f9469"
      }
    },
    {
      "cell_type": "code",
      "source": [
        "# Previsões - dados de teste\n",
        "previsoes_teste = modelo_treinado.predict(X_test)\n",
        "previsoes_teste[0:5]"
      ],
      "outputs": [
        {
          "output_type": "execute_result",
          "execution_count": 88,
          "data": {
            "text/plain": "array([1, 2, 2, 2, 2])"
          },
          "metadata": {}
        }
      ],
      "execution_count": 88,
      "metadata": {
        "colab": {
          "base_uri": "https://localhost:8080/"
        },
        "id": "G6cOjr4xxWYD",
        "outputId": "741cda98-f71b-43b2-fe00-bb67646d7d2f",
        "gather": {
          "logged": 1682108872698
        }
      }
    },
    {
      "cell_type": "code",
      "source": [
        "# Previsões - dados de treino\n",
        "previsoes_treino = modelo_treinado.predict(X_train)\n",
        "previsoes_treino[0:5]"
      ],
      "outputs": [
        {
          "output_type": "execute_result",
          "execution_count": 89,
          "data": {
            "text/plain": "array([1, 1, 3, 2, 2])"
          },
          "metadata": {}
        }
      ],
      "execution_count": 89,
      "metadata": {
        "colab": {
          "base_uri": "https://localhost:8080/"
        },
        "id": "ZC9O-rpzzZUr",
        "outputId": "d1c69724-91cd-4a95-a03e-6a2f53addb17",
        "gather": {
          "logged": 1682108892816
        }
      }
    },
    {
      "cell_type": "markdown",
      "source": [
        "Avaliação"
      ],
      "metadata": {
        "id": "qn-y95lXpdFX"
      }
    },
    {
      "cell_type": "code",
      "source": [
        "print(\"Avaliando dados de TESTE\")\n",
        "target_names = ['1 Poor','2 Standard','3 Good']\n",
        "y_true = y_test\n",
        "y_pred = previsoes_teste\n",
        "print(classification_report(y_true, y_pred, target_names=target_names))"
      ],
      "outputs": [
        {
          "output_type": "stream",
          "name": "stdout",
          "text": "Avaliando dados de TESTE\n              precision    recall  f1-score   support\n\n      1 Poor       0.70      0.59      0.64      5504\n  2 Standard       0.64      0.79      0.71      9173\n      3 Good       0.55      0.31      0.40      2830\n\n    accuracy                           0.65     17507\n   macro avg       0.63      0.56      0.58     17507\nweighted avg       0.65      0.65      0.64     17507\n\n"
        }
      ],
      "execution_count": 90,
      "metadata": {
        "colab": {
          "base_uri": "https://localhost:8080/"
        },
        "id": "x9BrH0Msxv0m",
        "outputId": "fe685425-cd88-4153-f97e-72359fe0fd5e",
        "gather": {
          "logged": 1682108922035
        }
      }
    },
    {
      "cell_type": "code",
      "source": [
        "print(\"Avaliando dados de TREINAMENTO\")\n",
        "target_names = ['1 Poor','2 Standard','3 Good']\n",
        "y_true = y_train\n",
        "y_pred = previsoes_treino\n",
        "print(classification_report(y_true, y_pred, target_names=target_names))"
      ],
      "outputs": [
        {
          "output_type": "stream",
          "name": "stdout",
          "text": "Avaliando dados de TREINAMENTO\n              precision    recall  f1-score   support\n\n      1 Poor       0.70      0.59      0.64     11012\n  2 Standard       0.65      0.79      0.71     18778\n      3 Good       0.51      0.29      0.37      5752\n\n    accuracy                           0.65     35542\n   macro avg       0.62      0.56      0.57     35542\nweighted avg       0.64      0.65      0.63     35542\n\n"
        }
      ],
      "execution_count": 91,
      "metadata": {
        "colab": {
          "base_uri": "https://localhost:8080/"
        },
        "id": "zZdvj28ayF1X",
        "outputId": "9bb639c2-0231-4d42-a88e-173c169bc4a4",
        "gather": {
          "logged": 1682108926111
        }
      }
    }
  ],
  "metadata": {
    "colab": {
      "provenance": []
    },
    "kernelspec": {
      "name": "python38-azureml",
      "language": "python",
      "display_name": "Python 3.8 - AzureML"
    },
    "language_info": {
      "name": "python",
      "version": "3.8.5",
      "mimetype": "text/x-python",
      "codemirror_mode": {
        "name": "ipython",
        "version": 3
      },
      "pygments_lexer": "ipython3",
      "nbconvert_exporter": "python",
      "file_extension": ".py"
    },
    "microsoft": {
      "ms_spell_check": {
        "ms_spell_check_language": "en"
      }
    },
    "kernel_info": {
      "name": "python38-azureml"
    },
    "nteract": {
      "version": "nteract-front-end@1.0.0"
    }
  },
  "nbformat": 4,
  "nbformat_minor": 0
}